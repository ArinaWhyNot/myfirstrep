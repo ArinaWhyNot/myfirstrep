{
  "cells": [
    {
      "cell_type": "markdown",
      "metadata": {
        "id": "view-in-github",
        "colab_type": "text"
      },
      "source": [
        "<a href=\"https://colab.research.google.com/github/ArinaWhyNot/myfirstrep/blob/main/lecture1.ipynb\" target=\"_parent\"><img src=\"https://colab.research.google.com/assets/colab-badge.svg\" alt=\"Open In Colab\"/></a>"
      ]
    },
    {
      "cell_type": "markdown",
      "metadata": {
        "id": "4PE7uTHoZErV"
      },
      "source": [
        "# Лекция 1. Основы Python\n",
        "\n",
        "* Установка Python\n",
        "* Первая программа\n",
        "* Основные типы данных и простейшие выражения"
      ]
    },
    {
      "cell_type": "markdown",
      "metadata": {
        "id": "Szyj2iX_ZErX"
      },
      "source": [
        "# Организация\n",
        "\n",
        "\n",
        "Для тех, кто не знаком с git требуется пройти самоучитель: https://githowto.com/ru\n",
        "\n",
        "Выполнение заданий в репозитории git\n",
        "Лекции должны быть пронумерованы в соответсвии с типом имени: lecture_XX, где x - номер лекции"
      ]
    },
    {
      "cell_type": "code",
      "execution_count": null,
      "metadata": {
        "id": "ZtQBJZVrZErY"
      },
      "outputs": [],
      "source": [
        "# Что мы будем делать?\n",
        "\n",
        "#Мы будем изучать Python, решая задачи NLP."
      ]
    },
    {
      "cell_type": "markdown",
      "metadata": {
        "id": "T_DWUUTUZEra"
      },
      "source": [
        "# Литература\n",
        "\n",
        "* Марк Лутц \"Изучаем Python\" (5-ое издание)\n",
        "* Официальная документация Python (https://docs.python.org/3/)"
      ]
    },
    {
      "cell_type": "markdown",
      "metadata": {
        "id": "v7lmOZtuZEra"
      },
      "source": [
        "# Установка Python\n",
        "\n",
        "Актуальными версиями Python'a является версии 3.4+. Нередко еще можно встретить версию 2.7, но она официально признана устаревшей и больше не поддерживается создателем языка."
      ]
    },
    {
      "cell_type": "markdown",
      "metadata": {
        "id": "D5BUWT9dZEra"
      },
      "source": [
        "## Windows"
      ]
    },
    {
      "cell_type": "markdown",
      "metadata": {
        "id": "-bAQ9oBDZEra"
      },
      "source": [
        "1. Скачать и установить с официального сайта https://www.python.org/\n",
        "<br>**Плюсы:** только Python и ничего лишнего\n",
        "<br>**Минусы:** проблемы с установкой некоторых модулей\n",
        "\n",
        "2. Установить Anaconda: https://www.anaconda.com/products/individual#windows\n",
        "<br>**Плюсы:** легкая установка основных пакетов, используемых в машинном обучении\n",
        "<br>**Минусы:** все-таки содержит в себе не все доступные модули"
      ]
    },
    {
      "cell_type": "markdown",
      "metadata": {
        "id": "6oNdzcXGZEra"
      },
      "source": [
        "## Linux\n",
        "\n",
        "Просто установит через любой менджер пакетов. Например:\n",
        "\n",
        "```\n",
        "sudo apt install python3\n",
        "```"
      ]
    },
    {
      "cell_type": "markdown",
      "metadata": {
        "id": "9V3SeiCkZErb"
      },
      "source": [
        "## Когда все совсем плохо\n",
        "\n",
        "Если все очень плохо с возможностью установки Python'a, то вы можете воспользоваться Google Colab: https://colab.research.google.com/"
      ]
    },
    {
      "cell_type": "markdown",
      "metadata": {
        "id": "qg6JPWtPZErb"
      },
      "source": [
        "# Организация работы\n",
        "\n",
        "* PyCharm - https://www.jetbrains.com/ru-ru/pycharm/\n",
        "* Visual Studio Code - https://code.visualstudio.com/\n",
        "* Jupyter / JupyterLab - устанавливаются как модули Python'a"
      ]
    },
    {
      "cell_type": "code",
      "execution_count": null,
      "metadata": {
        "id": "en8G5toTZErb"
      },
      "outputs": [],
      "source": [
        "python3 -m pip install jupyter"
      ]
    },
    {
      "cell_type": "code",
      "execution_count": null,
      "metadata": {
        "id": "iGzXvkFgZErb"
      },
      "outputs": [],
      "source": [
        "jupyter-notebook"
      ]
    },
    {
      "cell_type": "markdown",
      "metadata": {
        "id": "nfkB9XYCZErb"
      },
      "source": [
        "# Что такое программа на Python?\n",
        "\n",
        "Для начала запустим Python. Под Windows достаточно два раза кликнуть по **python.exe** в папке с установленным Pyhton'ом, а под Linux достаточно в терминале набрать python3.\n",
        "\n",
        "В появившемся окне наберите\n",
        "\n",
        "```python\n",
        "print(\"Hello World\")\n",
        "```\n",
        "\n",
        "Поздравляю, теперь вы немного Python-программист, так как это была простейшая программа на Python'е.\n",
        "\n",
        "> `print()` - выводит в стандартный поток вывода (терминал/консоль) текстовое представление аргументов через пробельный символ"
      ]
    },
    {
      "cell_type": "markdown",
      "metadata": {
        "id": "Unf8OBpJZErc"
      },
      "source": [
        "# Интерактивный сеанс\n",
        "\n",
        "То, что мы сейчас увидели называемся \"Интерактивным сеансом\". Особенность данного режима заключается в том, что весь код, который мы в нем набираем выполняется сразу же после нажатия Enter.\n",
        "\n",
        "Более того, в данном сеансе работают подсказки, которые выводят результат последнего выражения.\n",
        "\n",
        "Все, что создается в одном сеансе, существует до закрытия этого сеанса!"
      ]
    },
    {
      "cell_type": "code",
      "execution_count": null,
      "metadata": {
        "id": "pItjUz1zZErc",
        "outputId": "d315a083-d093-4872-e27e-f5b7820457c2"
      },
      "outputs": [
        {
          "name": "stdout",
          "output_type": "stream",
          "text": [
            "hello world\n"
          ]
        }
      ],
      "source": [
        "print(\"hello world\")"
      ]
    },
    {
      "cell_type": "markdown",
      "metadata": {
        "id": "pI4SggFqZErc"
      },
      "source": [
        "# Выполнение файлов\n",
        "\n",
        "Интерактивный сеанс не очень хорошо подходит для сложных программ. В этом случае нужно создать файл \"hello.py\" с содержимым\n",
        "\n",
        "```python\n",
        "print(\"hello world\")\n",
        "```\n",
        "\n",
        "Затем в терминале или командной строке выполнить в папке с вышесозданным файлом команду для Windows (либо если все настроенно, то можно просто два раза кликнуть на файл, но в этом случае нужно добавить `input()` в конец файла, чтобы окно закрывалось не моментально )\n",
        "```\n",
        "python.exe hello.py\n",
        "```\n",
        "для Linux\n",
        "```\n",
        "python3 hello.py\n",
        "```\n",
        "\n",
        "Под Linux можно придать скриптам Python'a вид нормальной программы, если добавить в первую строчку файла\n",
        "```\n",
        "#!/usr/bin/env python3\n",
        "```\n",
        "и разрешить запуск файла\n",
        "```\n",
        "chmod +x hello.py\n",
        "```\n",
        "теперь файл можно запускать, как обычную программу."
      ]
    },
    {
      "cell_type": "markdown",
      "metadata": {
        "id": "e1GCf2r6ZErd"
      },
      "source": [
        "# Как работает Python\n",
        "\n",
        "Если кратко, то Python выполняется на специальной виртуальной машине (PVM), которая выполняет байт-код, в который преобразуется написанный вами код. Подобный подход используется Java. Основное преимущество такого подхода в том, что ваши программы не зависят от платформы, на которой вы их запускаете, главное, чтобы там была виртуальная машина.\n",
        "\n",
        "Это отличается от обычных программ, которые компилируются в язык понятный процессору."
      ]
    },
    {
      "cell_type": "markdown",
      "metadata": {
        "id": "ztvbd7JOZErd"
      },
      "source": [
        "# Компилятор Python на Python\n",
        "\n",
        "В любой вашей программе Python можно подгрузить любую текстовую информацию и выполнить как программу Python\n",
        "\n",
        "> `exec()` - выполняет текстовое выражение, как программу Python"
      ]
    },
    {
      "cell_type": "code",
      "execution_count": null,
      "metadata": {
        "id": "C0o_rg2fZErd",
        "outputId": "3cad4ee9-35a8-42a7-d36c-943f4825f18e"
      },
      "outputs": [
        {
          "name": "stdout",
          "output_type": "stream",
          "text": [
            "hello world\n"
          ]
        }
      ],
      "source": [
        "exec(\"print('hello world')\")"
      ]
    },
    {
      "cell_type": "code",
      "execution_count": null,
      "metadata": {
        "id": "jkgpC9e7ZErd"
      },
      "outputs": [],
      "source": []
    },
    {
      "cell_type": "markdown",
      "metadata": {
        "id": "zT_iILCqZErd"
      },
      "source": [
        "# Встроенная справка\n",
        "\n",
        "Python позволяет получить справку с помощью самого себя\n",
        "\n",
        "> `help()` - выводит справку по объекту"
      ]
    },
    {
      "cell_type": "code",
      "execution_count": null,
      "metadata": {
        "id": "UYyz5VVcZEre",
        "outputId": "02f72cf4-880f-4eb1-fd04-34a283b818c7"
      },
      "outputs": [
        {
          "name": "stdout",
          "output_type": "stream",
          "text": [
            "Help on built-in function print in module builtins:\n",
            "\n",
            "print(...)\n",
            "    print(value, ..., sep=' ', end='\\n', file=sys.stdout, flush=False)\n",
            "    \n",
            "    Prints the values to a stream, or to sys.stdout by default.\n",
            "    Optional keyword arguments:\n",
            "    file:  a file-like object (stream); defaults to the current sys.stdout.\n",
            "    sep:   string inserted between values, default a space.\n",
            "    end:   string appended after the last value, default a newline.\n",
            "    flush: whether to forcibly flush the stream.\n",
            "\n"
          ]
        }
      ],
      "source": [
        "help(print)"
      ]
    },
    {
      "cell_type": "markdown",
      "metadata": {
        "id": "DyZh6TG-ZEre"
      },
      "source": [
        "В Jupyter можно получить справку, просто добавив ? к интересуемому объекту"
      ]
    },
    {
      "cell_type": "code",
      "execution_count": null,
      "metadata": {
        "id": "t35vlsD5ZEre"
      },
      "outputs": [],
      "source": [
        "print?"
      ]
    },
    {
      "cell_type": "markdown",
      "metadata": {
        "id": "2vrDemnuZEre"
      },
      "source": [
        "# Начало\n",
        "\n",
        "Чтобы начать делать нашу игру, нам нужно понять из чего будет состоять наша программа. Самым базовым кирпичиком программы будут переменные, они позволят нам оперировать данными игры."
      ]
    },
    {
      "cell_type": "markdown",
      "metadata": {
        "id": "fbz75-bBZEre"
      },
      "source": [
        "# Переменные\n",
        "\n",
        "Переменные в Python - это некая ссылка на данные и это отличает их от некоторых других языков программирования, так как они могут указывать данные любого рода. Каждый раз, когда Python видит переменную в выражении, он заменяет её объектом, на который она ссылается.\n",
        "\n",
        "Создать переменную несложно, достаточно ей просто присвоить любое значение"
      ]
    },
    {
      "cell_type": "code",
      "execution_count": null,
      "metadata": {
        "id": "9Gq7VIs9ZErf",
        "outputId": "f1ea916a-c368-44e0-fbd1-85cf794d1fdf"
      },
      "outputs": [
        {
          "name": "stdout",
          "output_type": "stream",
          "text": [
            "foo\n",
            "7\n"
          ]
        }
      ],
      "source": [
        "a = 3\n",
        "a = 7\n",
        "b = a\n",
        "a = \"foo\"\n",
        "print(a)\n",
        "print(b)"
      ]
    },
    {
      "cell_type": "markdown",
      "metadata": {
        "id": "9KZv_TVJZErf"
      },
      "source": [
        "Можно и так"
      ]
    },
    {
      "cell_type": "code",
      "execution_count": null,
      "metadata": {
        "id": "boRy7T9aZErg",
        "outputId": "e877fd2e-a524-438d-c432-289543ee3bc9"
      },
      "outputs": [
        {
          "name": "stdout",
          "output_type": "stream",
          "text": [
            "1695003377968 1695003377968\n"
          ]
        }
      ],
      "source": [
        "a = 3\n",
        "b = a\n",
        "\n",
        "print(id(a), id(b))"
      ]
    },
    {
      "cell_type": "markdown",
      "metadata": {
        "id": "v3SaHoMZZErg"
      },
      "source": [
        "> `id` - возвращает уникальный идентификатор объекта\n",
        "\n",
        "Выше мы видим, что мы создали две различные переменные, но они ссылаются на один и тот же объект."
      ]
    },
    {
      "cell_type": "code",
      "execution_count": null,
      "metadata": {
        "id": "fIfgKRn8ZErg",
        "outputId": "5641acd1-e12c-4cd4-f95d-c47728328701"
      },
      "outputs": [
        {
          "name": "stdout",
          "output_type": "stream",
          "text": [
            "3\n"
          ]
        }
      ],
      "source": [
        "a = 3\n",
        "b = a\n",
        "a = 5\n",
        "\n",
        "print(b)"
      ]
    },
    {
      "cell_type": "code",
      "execution_count": null,
      "metadata": {
        "id": "RIEoLUvPZErh"
      },
      "outputs": [],
      "source": [
        "h = None\n",
        "h"
      ]
    },
    {
      "cell_type": "code",
      "source": [
        "x = \"мама мыла раму\"\n",
        "print(x)"
      ],
      "metadata": {
        "colab": {
          "base_uri": "https://localhost:8080/"
        },
        "id": "DXejn7dDhu4s",
        "outputId": "92f3d0e4-e317-4777-ebd1-1c05d67f87f6"
      },
      "execution_count": null,
      "outputs": [
        {
          "output_type": "stream",
          "name": "stdout",
          "text": [
            "мама мыла раму\n"
          ]
        }
      ]
    },
    {
      "cell_type": "code",
      "source": [
        "a = 'foo'\n",
        "type(a)"
      ],
      "metadata": {
        "colab": {
          "base_uri": "https://localhost:8080/"
        },
        "id": "7YlSfXgEh-4M",
        "outputId": "05baa6a4-e0f8-4e5f-fced-02477376c5d6"
      },
      "execution_count": null,
      "outputs": [
        {
          "output_type": "execute_result",
          "data": {
            "text/plain": [
              "str"
            ]
          },
          "metadata": {},
          "execution_count": 2
        }
      ]
    },
    {
      "cell_type": "code",
      "source": [
        "import math"
      ],
      "metadata": {
        "id": "R5qkXse5ks0Y"
      },
      "execution_count": null,
      "outputs": []
    },
    {
      "cell_type": "markdown",
      "metadata": {
        "id": "ZBymBURHZErh"
      },
      "source": [
        "# Основные типы данных\n",
        "\n",
        "\n",
        "Тип данных | Литерал/Создание\n",
        "--- | ---\n",
        "числа | 1, 3.14, 2+3j, int(), float(), complex() и т.д.\n",
        "строки | 'foo', \"spam\", b'\\x00', str()\n",
        "кортежи | (1, 2), tuple(\"foo\")\n",
        "списки | [1, 2], list(range(4))\n",
        "словари | {1: 2}, dict()\n",
        "множества | set()\n",
        "файлы | open(\"hi.txt\"), open(\"data.bin\", \"wb\")\n",
        "прочие | True, False, None, bool()\n",
        "специальные | классы, модули, функции и другие"
      ]
    },
    {
      "cell_type": "markdown",
      "metadata": {
        "id": "pDuAaB2IZEri"
      },
      "source": [
        "> **Литерал** - это выражение, которое создает объект."
      ]
    },
    {
      "cell_type": "code",
      "execution_count": null,
      "metadata": {
        "id": "i4AcUuNMZEri",
        "outputId": "e16f31cb-577f-4564-a6a7-da21a7446373"
      },
      "outputs": [
        {
          "name": "stdout",
          "output_type": "stream",
          "text": [
            "3025.0\n"
          ]
        },
        {
          "data": {
            "text/plain": [
              "float"
            ]
          },
          "execution_count": 15,
          "metadata": {},
          "output_type": "execute_result"
        }
      ],
      "source": [
        "a = 'foo'\n",
        "type(a)"
      ]
    },
    {
      "cell_type": "markdown",
      "metadata": {
        "id": "qlA5hPhxZErj"
      },
      "source": [
        "> `type()` - возвращает тип объекта, если вы забыли, какой тип там хранится."
      ]
    },
    {
      "cell_type": "markdown",
      "metadata": {
        "id": "bdIks_0jZErj"
      },
      "source": [
        "# Числа"
      ]
    },
    {
      "cell_type": "markdown",
      "metadata": {
        "id": "Pf-RJ_j1ZErj"
      },
      "source": [
        "Числа - это простейший неизменяемый тип данных. Бывают\n",
        "* целыми (1, 2, -1)\n",
        "* с плавающей запятой (1.2, 4E3, 2e-2)\n",
        "* комплексные (1 + 1j)\n",
        "\n",
        "Дополнительные литералы для целых чисел\n",
        "* 0b10 - двоичный литерал\n",
        "* 0o70 - восьмиричный литерал\n",
        "* 0xFA - шестнадцатиричный литерал\n",
        "* True для 1, False для 0 (это специальный булевый тип)\n",
        "\n",
        "\n",
        "Интересной особенностью целых числе в Python является то, что они не ограничены. Python поддерживает, так называемую, \"длинную арифметику\". Так что найти факториал числа 100 в Python не самая сложная задача."
      ]
    },
    {
      "cell_type": "code",
      "execution_count": null,
      "metadata": {
        "id": "burgCX63ZErj",
        "outputId": "7a7f5d7a-b58a-4f3c-c38b-6796b2e92c8d"
      },
      "outputs": [
        {
          "data": {
            "text/plain": [
              "93326215443944152681699238856266700490715968264381621468592963895217599993229915608941463976156518286253697920827223758251185210916864000000000000000000000000"
            ]
          },
          "execution_count": 16,
          "metadata": {},
          "output_type": "execute_result"
        }
      ],
      "source": [
        "from functools import reduce\n",
        "\n",
        "reduce(lambda x,y: x * y, range(1, 100 + 1), 1)"
      ]
    },
    {
      "cell_type": "markdown",
      "metadata": {
        "id": "GutxctVCZErs"
      },
      "source": [
        "## Операции над числами\n",
        "\n",
        "Числа поддерживает всем знакомые операции\n",
        "* умножение *\n",
        "* истинное деление /\n",
        "* целочисленное деление //\n",
        "* остаток от деления %\n",
        "* возведение в степень **\n",
        "* битовые операции &, |, <<, >>, ^, ~"
      ]
    },
    {
      "cell_type": "code",
      "execution_count": null,
      "metadata": {
        "id": "IrA6oIbAZErt",
        "outputId": "3e3c05b8-6cf0-4894-8bdc-6aa236caa777"
      },
      "outputs": [
        {
          "name": "stdout",
          "output_type": "stream",
          "text": [
            "a / b  = 2.5\n",
            "a // b = 2\n",
            "a % b  = 1\n"
          ]
        }
      ],
      "source": [
        "a = 5\n",
        "b = 2\n",
        "\n",
        "print(\"a / b  =\", a / b)\n",
        "print(\"a // b =\", a // b)\n",
        "print(\"a % b  =\", a % b)"
      ]
    },
    {
      "cell_type": "markdown",
      "metadata": {
        "id": "b6QxOMxdZErt"
      },
      "source": [
        "У каждой операции есть приоритет выполнения (https://docs.python.org/3/reference/expressions.html#operator-precedence). В целом они располагаются достаточно знакомым вам образом: умножение/деление в начале, потом сложение/вычитание, потом логические операции.\n",
        "\n",
        "Круглые скобки позволяют группировать операции. Выражение в скобках обладает всегда более высоким приоритетом. Все как учили в школе.\n",
        "\n",
        "Запоминать это не обязательно, каждый раз, когда вы сомневаетесь в том, какая операция будет первой - вы можете определить порядок вычисления с помощью скобок."
      ]
    },
    {
      "cell_type": "code",
      "execution_count": null,
      "metadata": {
        "id": "9kwMaN2zZErt",
        "outputId": "1b9cf7d7-f512-4bf1-8227-47ab1dabe751"
      },
      "outputs": [
        {
          "data": {
            "text/plain": [
              "8"
            ]
          },
          "execution_count": 13,
          "metadata": {},
          "output_type": "execute_result"
        }
      ],
      "source": [
        "2 + 3 * 2"
      ]
    },
    {
      "cell_type": "code",
      "execution_count": null,
      "metadata": {
        "id": "YBKDuaFmZErt",
        "outputId": "3b976e07-800a-4efe-9e09-65f303d2ff4c"
      },
      "outputs": [
        {
          "data": {
            "text/plain": [
              "10"
            ]
          },
          "execution_count": 14,
          "metadata": {},
          "output_type": "execute_result"
        }
      ],
      "source": [
        "(2 + 3) * 2"
      ]
    },
    {
      "cell_type": "code",
      "execution_count": null,
      "metadata": {
        "id": "8shcBH_SZErt",
        "outputId": "53182353-2405-4428-8371-2a2569c5a2a9"
      },
      "outputs": [
        {
          "data": {
            "text/plain": [
              "str"
            ]
          },
          "execution_count": 17,
          "metadata": {},
          "output_type": "execute_result"
        }
      ],
      "source": [
        "type(a)"
      ]
    },
    {
      "cell_type": "markdown",
      "metadata": {
        "id": "8Cum6X_nZEru"
      },
      "source": [
        "Вы можете объединять числа в любые выражения. Вам нередко будет встречаться такая конструкция\n",
        "\n",
        "```Python\n",
        "a = a + 5\n",
        "```\n",
        "\n",
        "Писать это каждый раз утомительно, поэтому можно воспользоваться _синтаксическим сахаром_ и записать это кратко\n",
        "```Python\n",
        "a += 5\n",
        "```"
      ]
    },
    {
      "cell_type": "code",
      "execution_count": null,
      "metadata": {
        "id": "AYepGVBlZEru",
        "outputId": "f2b3787a-2711-4dd5-b728-d013834daf63"
      },
      "outputs": [
        {
          "name": "stdout",
          "output_type": "stream",
          "text": [
            "1386864771376 1386864771344\n",
            "1386864771440 1386864771344\n"
          ]
        }
      ],
      "source": [
        "a = 3\n",
        "b = 2\n",
        "print(id(a), id(b))\n",
        "\n",
        "a += b\n",
        "print(id(a), id(b))"
      ]
    },
    {
      "cell_type": "markdown",
      "metadata": {
        "id": "aNxMpuFKZEru"
      },
      "source": [
        "Выше мы видим подтверждение того, что числа - это неизменяемые выличины"
      ]
    },
    {
      "cell_type": "markdown",
      "metadata": {
        "id": "Hoxq5HrfZEru"
      },
      "source": [
        "## Сравнение\n",
        "\n",
        "Числа поддерживают операции сравнения, которые возвращают булевый тип: True (истинна) и False (ложь)\n",
        "\n",
        "* \\>, < - больше и меньше\n",
        "* \\>=, <=  - больше или равно, меньше или равно\n",
        "* != - не равно\n",
        "* == - равно\n",
        "\n",
        "Операции сравнения можно сцеплять друг с другом. Выражение `1 < 2 < 3` эквивалентно `1 < 2 and 2 < 3`."
      ]
    },
    {
      "cell_type": "code",
      "execution_count": null,
      "metadata": {
        "id": "iJ8Hn3BlZEru",
        "outputId": "1010987a-64aa-40bc-c8bf-ed582d38d7a8"
      },
      "outputs": [
        {
          "data": {
            "text/plain": [
              "True"
            ]
          },
          "execution_count": 26,
          "metadata": {},
          "output_type": "execute_result"
        }
      ],
      "source": [
        "a = 4\n",
        "b = 5\n",
        "\n",
        "a < b < 10"
      ]
    },
    {
      "cell_type": "markdown",
      "metadata": {
        "id": "tSReO4LLZErv"
      },
      "source": [
        "# Дополнительные операции\n",
        "\n",
        "Python поддерживает некоторое количество встроенных операций над числами: преобразование к строке показывающей шестнадцетиричное представление числа `hex()`, двоичное представление - `bin()`, преобразовать в строку `str()`"
      ]
    },
    {
      "cell_type": "code",
      "execution_count": null,
      "metadata": {
        "id": "6lcf6SOmZErv",
        "outputId": "9c6f7553-ab0e-49ae-b0ce-b572a4a013e5"
      },
      "outputs": [
        {
          "data": {
            "text/plain": [
              "('0xf', '0b1111', '0o17', '15')"
            ]
          },
          "execution_count": 27,
          "metadata": {},
          "output_type": "execute_result"
        }
      ],
      "source": [
        "hex(15), bin(15), oct(15), str(15)"
      ]
    },
    {
      "cell_type": "markdown",
      "metadata": {
        "id": "JI68B7_QZErv"
      },
      "source": [
        "## Пара слов о repr() и str()\n",
        "\n",
        "> `str()` - позволяет получить текстовое представление любого объекта\n",
        "\n",
        "> `repr()` - позволяет получить текстовое представление для интерактивного сеанса"
      ]
    },
    {
      "cell_type": "code",
      "execution_count": null,
      "metadata": {
        "id": "uPbUR1RTZErv",
        "outputId": "9d4cd3b9-8f5a-4d9c-f4e8-be7268807b4f"
      },
      "outputs": [
        {
          "data": {
            "text/plain": [
              "'<built-in function print>'"
            ]
          },
          "execution_count": 28,
          "metadata": {},
          "output_type": "execute_result"
        }
      ],
      "source": [
        "str(print)"
      ]
    },
    {
      "cell_type": "code",
      "execution_count": null,
      "metadata": {
        "id": "ZZ2lOrbMZErv",
        "outputId": "1fc4dbad-473a-42d1-80d8-df4f77c47588"
      },
      "outputs": [
        {
          "name": "stdout",
          "output_type": "stream",
          "text": [
            "str(a) = foo\n",
            "repr(a) = 'foo'\n"
          ]
        }
      ],
      "source": [
        "a = \"foo\"\n",
        "\n",
        "print(\"str(a) =\", str(a))\n",
        "print(\"repr(a) =\", repr(a))"
      ]
    },
    {
      "cell_type": "markdown",
      "metadata": {
        "id": "VbpFgYu7ZErw"
      },
      "source": [
        "# Модули\n",
        "\n",
        "Представленных операций не хватает на все случаи жизни, например здесь нет извлечения квадратного корня, тригонометрических операций и другого. Все это можно получить, подключив к вашей программе дополнительный модуль.\n",
        "\n",
        "Мы не будем обсуждать сейчас, что такое модули. Рассматривайте это как черный ящик, в котором храняться полезные для вас функции, переменные, классы и прочее.\n",
        "\n",
        "\n",
        "Добавить модуль к вашей программе не сложно, достаточно просто добавить строку\n",
        "```Python\n",
        "import <название модуля>\n",
        "```"
      ]
    },
    {
      "cell_type": "markdown",
      "metadata": {
        "id": "3tAFpRIEZErw"
      },
      "source": [
        "Python содержит в себе достаточно большое число встроенных модулей: https://docs.python.org/3/library/index.html\n",
        "\n",
        "Познакомимся с первым полезным для нас модулем - **math**. Данный модуль содержит множество математических операций."
      ]
    },
    {
      "cell_type": "code",
      "execution_count": null,
      "metadata": {
        "id": "Egc1r02TZErw"
      },
      "outputs": [],
      "source": [
        "#!pip install nltk ##это коммент\n",
        "import math"
      ]
    },
    {
      "cell_type": "markdown",
      "metadata": {
        "id": "LiOjTl-MZErw"
      },
      "source": [
        "Модули являются объектами, а значит мы можем получить по ним справку"
      ]
    },
    {
      "cell_type": "code",
      "execution_count": null,
      "metadata": {
        "id": "23XuVKKJZErw",
        "outputId": "860493a0-c260-4500-fc7b-414776352d84"
      },
      "outputs": [
        {
          "name": "stdout",
          "output_type": "stream",
          "text": [
            "Help on built-in module math:\n",
            "\n",
            "NAME\n",
            "    math\n",
            "\n",
            "DESCRIPTION\n",
            "    This module provides access to the mathematical functions\n",
            "    defined by the C standard.\n",
            "\n",
            "FUNCTIONS\n",
            "    acos(x, /)\n",
            "        Return the arc cosine (measured in radians) of x.\n",
            "        \n",
            "        The result is between 0 and pi.\n",
            "    \n",
            "    acosh(x, /)\n",
            "        Return the inverse hyperbolic cosine of x.\n",
            "    \n",
            "    asin(x, /)\n",
            "        Return the arc sine (measured in radians) of x.\n",
            "        \n",
            "        The result is between -pi/2 and pi/2.\n",
            "    \n",
            "    asinh(x, /)\n",
            "        Return the inverse hyperbolic sine of x.\n",
            "    \n",
            "    atan(x, /)\n",
            "        Return the arc tangent (measured in radians) of x.\n",
            "        \n",
            "        The result is between -pi/2 and pi/2.\n",
            "    \n",
            "    atan2(y, x, /)\n",
            "        Return the arc tangent (measured in radians) of y/x.\n",
            "        \n",
            "        Unlike atan(y/x), the signs of both x and y are considered.\n",
            "    \n",
            "    atanh(x, /)\n",
            "        Return the inverse hyperbolic tangent of x.\n",
            "    \n",
            "    ceil(x, /)\n",
            "        Return the ceiling of x as an Integral.\n",
            "        \n",
            "        This is the smallest integer >= x.\n",
            "    \n",
            "    comb(n, k, /)\n",
            "        Number of ways to choose k items from n items without repetition and without order.\n",
            "        \n",
            "        Evaluates to n! / (k! * (n - k)!) when k <= n and evaluates\n",
            "        to zero when k > n.\n",
            "        \n",
            "        Also called the binomial coefficient because it is equivalent\n",
            "        to the coefficient of k-th term in polynomial expansion of the\n",
            "        expression (1 + x)**n.\n",
            "        \n",
            "        Raises TypeError if either of the arguments are not integers.\n",
            "        Raises ValueError if either of the arguments are negative.\n",
            "    \n",
            "    copysign(x, y, /)\n",
            "        Return a float with the magnitude (absolute value) of x but the sign of y.\n",
            "        \n",
            "        On platforms that support signed zeros, copysign(1.0, -0.0)\n",
            "        returns -1.0.\n",
            "    \n",
            "    cos(x, /)\n",
            "        Return the cosine of x (measured in radians).\n",
            "    \n",
            "    cosh(x, /)\n",
            "        Return the hyperbolic cosine of x.\n",
            "    \n",
            "    degrees(x, /)\n",
            "        Convert angle x from radians to degrees.\n",
            "    \n",
            "    dist(p, q, /)\n",
            "        Return the Euclidean distance between two points p and q.\n",
            "        \n",
            "        The points should be specified as sequences (or iterables) of\n",
            "        coordinates.  Both inputs must have the same dimension.\n",
            "        \n",
            "        Roughly equivalent to:\n",
            "            sqrt(sum((px - qx) ** 2.0 for px, qx in zip(p, q)))\n",
            "    \n",
            "    erf(x, /)\n",
            "        Error function at x.\n",
            "    \n",
            "    erfc(x, /)\n",
            "        Complementary error function at x.\n",
            "    \n",
            "    exp(x, /)\n",
            "        Return e raised to the power of x.\n",
            "    \n",
            "    expm1(x, /)\n",
            "        Return exp(x)-1.\n",
            "        \n",
            "        This function avoids the loss of precision involved in the direct evaluation of exp(x)-1 for small x.\n",
            "    \n",
            "    fabs(x, /)\n",
            "        Return the absolute value of the float x.\n",
            "    \n",
            "    factorial(x, /)\n",
            "        Find x!.\n",
            "        \n",
            "        Raise a ValueError if x is negative or non-integral.\n",
            "    \n",
            "    floor(x, /)\n",
            "        Return the floor of x as an Integral.\n",
            "        \n",
            "        This is the largest integer <= x.\n",
            "    \n",
            "    fmod(x, y, /)\n",
            "        Return fmod(x, y), according to platform C.\n",
            "        \n",
            "        x % y may differ.\n",
            "    \n",
            "    frexp(x, /)\n",
            "        Return the mantissa and exponent of x, as pair (m, e).\n",
            "        \n",
            "        m is a float and e is an int, such that x = m * 2.**e.\n",
            "        If x is 0, m and e are both 0.  Else 0.5 <= abs(m) < 1.0.\n",
            "    \n",
            "    fsum(seq, /)\n",
            "        Return an accurate floating point sum of values in the iterable seq.\n",
            "        \n",
            "        Assumes IEEE-754 floating point arithmetic.\n",
            "    \n",
            "    gamma(x, /)\n",
            "        Gamma function at x.\n",
            "    \n",
            "    gcd(*integers)\n",
            "        Greatest Common Divisor.\n",
            "    \n",
            "    hypot(...)\n",
            "        hypot(*coordinates) -> value\n",
            "        \n",
            "        Multidimensional Euclidean distance from the origin to a point.\n",
            "        \n",
            "        Roughly equivalent to:\n",
            "            sqrt(sum(x**2 for x in coordinates))\n",
            "        \n",
            "        For a two dimensional point (x, y), gives the hypotenuse\n",
            "        using the Pythagorean theorem:  sqrt(x*x + y*y).\n",
            "        \n",
            "        For example, the hypotenuse of a 3/4/5 right triangle is:\n",
            "        \n",
            "            >>> hypot(3.0, 4.0)\n",
            "            5.0\n",
            "    \n",
            "    isclose(a, b, *, rel_tol=1e-09, abs_tol=0.0)\n",
            "        Determine whether two floating point numbers are close in value.\n",
            "        \n",
            "          rel_tol\n",
            "            maximum difference for being considered \"close\", relative to the\n",
            "            magnitude of the input values\n",
            "          abs_tol\n",
            "            maximum difference for being considered \"close\", regardless of the\n",
            "            magnitude of the input values\n",
            "        \n",
            "        Return True if a is close in value to b, and False otherwise.\n",
            "        \n",
            "        For the values to be considered close, the difference between them\n",
            "        must be smaller than at least one of the tolerances.\n",
            "        \n",
            "        -inf, inf and NaN behave similarly to the IEEE 754 Standard.  That\n",
            "        is, NaN is not close to anything, even itself.  inf and -inf are\n",
            "        only close to themselves.\n",
            "    \n",
            "    isfinite(x, /)\n",
            "        Return True if x is neither an infinity nor a NaN, and False otherwise.\n",
            "    \n",
            "    isinf(x, /)\n",
            "        Return True if x is a positive or negative infinity, and False otherwise.\n",
            "    \n",
            "    isnan(x, /)\n",
            "        Return True if x is a NaN (not a number), and False otherwise.\n",
            "    \n",
            "    isqrt(n, /)\n",
            "        Return the integer part of the square root of the input.\n",
            "    \n",
            "    lcm(*integers)\n",
            "        Least Common Multiple.\n",
            "    \n",
            "    ldexp(x, i, /)\n",
            "        Return x * (2**i).\n",
            "        \n",
            "        This is essentially the inverse of frexp().\n",
            "    \n",
            "    lgamma(x, /)\n",
            "        Natural logarithm of absolute value of Gamma function at x.\n",
            "    \n",
            "    log(...)\n",
            "        log(x, [base=math.e])\n",
            "        Return the logarithm of x to the given base.\n",
            "        \n",
            "        If the base not specified, returns the natural logarithm (base e) of x.\n",
            "    \n",
            "    log10(x, /)\n",
            "        Return the base 10 logarithm of x.\n",
            "    \n",
            "    log1p(x, /)\n",
            "        Return the natural logarithm of 1+x (base e).\n",
            "        \n",
            "        The result is computed in a way which is accurate for x near zero.\n",
            "    \n",
            "    log2(x, /)\n",
            "        Return the base 2 logarithm of x.\n",
            "    \n",
            "    modf(x, /)\n",
            "        Return the fractional and integer parts of x.\n",
            "        \n",
            "        Both results carry the sign of x and are floats.\n",
            "    \n",
            "    nextafter(x, y, /)\n",
            "        Return the next floating-point value after x towards y.\n",
            "    \n",
            "    perm(n, k=None, /)\n",
            "        Number of ways to choose k items from n items without repetition and with order.\n",
            "        \n",
            "        Evaluates to n! / (n - k)! when k <= n and evaluates\n",
            "        to zero when k > n.\n",
            "        \n",
            "        If k is not specified or is None, then k defaults to n\n",
            "        and the function returns n!.\n",
            "        \n",
            "        Raises TypeError if either of the arguments are not integers.\n",
            "        Raises ValueError if either of the arguments are negative.\n",
            "    \n",
            "    pow(x, y, /)\n",
            "        Return x**y (x to the power of y).\n",
            "    \n",
            "    prod(iterable, /, *, start=1)\n",
            "        Calculate the product of all the elements in the input iterable.\n",
            "        \n",
            "        The default start value for the product is 1.\n",
            "        \n",
            "        When the iterable is empty, return the start value.  This function is\n",
            "        intended specifically for use with numeric values and may reject\n",
            "        non-numeric types.\n",
            "    \n",
            "    radians(x, /)\n",
            "        Convert angle x from degrees to radians.\n",
            "    \n",
            "    remainder(x, y, /)\n",
            "        Difference between x and the closest integer multiple of y.\n",
            "        \n",
            "        Return x - n*y where n*y is the closest integer multiple of y.\n",
            "        In the case where x is exactly halfway between two multiples of\n",
            "        y, the nearest even value of n is used. The result is always exact.\n",
            "    \n",
            "    sin(x, /)\n",
            "        Return the sine of x (measured in radians).\n",
            "    \n",
            "    sinh(x, /)\n",
            "        Return the hyperbolic sine of x.\n",
            "    \n",
            "    sqrt(x, /)\n",
            "        Return the square root of x.\n",
            "    \n",
            "    tan(x, /)\n",
            "        Return the tangent of x (measured in radians).\n",
            "    \n",
            "    tanh(x, /)\n",
            "        Return the hyperbolic tangent of x.\n",
            "    \n",
            "    trunc(x, /)\n",
            "        Truncates the Real x to the nearest Integral toward 0.\n",
            "        \n",
            "        Uses the __trunc__ magic method.\n",
            "    \n",
            "    ulp(x, /)\n",
            "        Return the value of the least significant bit of the float x.\n",
            "\n",
            "DATA\n",
            "    e = 2.718281828459045\n",
            "    inf = inf\n",
            "    nan = nan\n",
            "    pi = 3.141592653589793\n",
            "    tau = 6.283185307179586\n",
            "\n",
            "FILE\n",
            "    (built-in)\n",
            "\n",
            "\n"
          ]
        }
      ],
      "source": [
        "help(math)"
      ]
    },
    {
      "cell_type": "markdown",
      "metadata": {
        "id": "KnoEbYqhZErx"
      },
      "source": [
        "Теперь нам доступны дополнительные операции над числами"
      ]
    },
    {
      "cell_type": "code",
      "execution_count": null,
      "metadata": {
        "id": "diKH636TZErx",
        "outputId": "96ddc581-f6b5-4c66-9dc3-39162f8e475b"
      },
      "outputs": [
        {
          "data": {
            "text/plain": [
              "1.4142135623730951"
            ]
          },
          "execution_count": 27,
          "metadata": {},
          "output_type": "execute_result"
        }
      ],
      "source": [
        "math.sqrt(2)"
      ]
    },
    {
      "cell_type": "markdown",
      "metadata": {
        "id": "by5UAqHsZErx"
      },
      "source": [
        "Также вместо импорта модуля целиком, из него можно достать только некоторые функции с помощью `from`\n",
        "\n",
        "```Python\n",
        "from math import sqrt\n",
        "```\n",
        "\n",
        "Теперь, чтобы извлечь квадратный корень не нужно писать `math`.\n",
        "\n",
        "Если нужны все функции из модуля, то можно сделать так\n",
        "```Python\n",
        "from math import *\n",
        "```"
      ]
    },
    {
      "cell_type": "code",
      "execution_count": null,
      "metadata": {
        "id": "JOe1TO6fZErx",
        "outputId": "3e0bfa79-bf29-4246-da8d-56d941fa4358"
      },
      "outputs": [
        {
          "data": {
            "text/plain": [
              "6.3341191670421955"
            ]
          },
          "execution_count": 31,
          "metadata": {},
          "output_type": "execute_result"
        }
      ],
      "source": [
        "from math import sqrt, tan\n",
        "\n",
        "tan(sqrt(2))"
      ]
    },
    {
      "cell_type": "markdown",
      "metadata": {
        "id": "hRMMs1ZMZErx"
      },
      "source": [
        "> **ОСТОРОЖНО!**\n",
        "> Использовать `from` нужно внимательно и со знанием дела, в противном случае вы можете получить крайне сложно обнаружимые ошибки связанные с тем, что у вас может произойти перезапись переменных либо модуля, либо вашей программы."
      ]
    },
    {
      "cell_type": "markdown",
      "metadata": {
        "id": "W5hA8T2kZErx"
      },
      "source": [
        "И для самых ленивых есть возможность создания сокращений к именам модулей\n",
        "\n",
        "```Python\n",
        "import numpy as np\n",
        "```"
      ]
    },
    {
      "cell_type": "code",
      "execution_count": null,
      "metadata": {
        "id": "5oJtKC7JZEry",
        "outputId": "d7f75fee-88ab-45b1-ebca-2a3f848c1586"
      },
      "outputs": [
        {
          "name": "stdout",
          "output_type": "stream",
          "text": [
            "[1 2 3 4]\n"
          ]
        }
      ],
      "source": [
        "import numpy as np\n",
        "\n",
        "print(np.arange(1, 5))"
      ]
    },
    {
      "cell_type": "markdown",
      "metadata": {
        "id": "Mx4UX1I7ZEry"
      },
      "source": [
        "# Добавим интерактива\n",
        "\n",
        "И так, мы умеет теперь делать с числами почти все, что угодно. Для реализации игры нам нужно добавить возможность взаимодействия с пользователем, чтобы он мог делать выбор.\n",
        "\n",
        "Здесь нам на помощь приходит функция `input()`\n",
        "\n",
        "> `input()` - останавливает выполнение программы для того, чтобы пользователь мог ввести данные. Возвращает всегда строку."
      ]
    },
    {
      "cell_type": "code",
      "execution_count": null,
      "metadata": {
        "id": "EqpbuwQDZEry"
      },
      "outputs": [],
      "source": [
        "print(\"Enter a number: \")\n",
        "a = input()\n",
        "print(\"a =\", type(a))\n",
        "print(\"a = \", int(a)+5)"
      ]
    },
    {
      "cell_type": "markdown",
      "metadata": {
        "id": "YAbgLIOFZEry"
      },
      "source": [
        "А можно передать сообщение для вывода в качестве первого аргумента"
      ]
    },
    {
      "cell_type": "code",
      "execution_count": null,
      "metadata": {
        "id": "0RHWOimAZEry",
        "outputId": "1c3c23a8-4bae-47d8-ce73-d2878d9e8d04"
      },
      "outputs": [
        {
          "name": "stdout",
          "output_type": "stream",
          "text": [
            "Enter a number: 123\n",
            "a = <class 'str'>\n"
          ]
        }
      ],
      "source": [
        "a = input(\"Enter a number: \")\n",
        "print(\"a =\", type(a))"
      ]
    },
    {
      "cell_type": "markdown",
      "metadata": {
        "id": "6BjGpOL-ZEry"
      },
      "source": [
        "# Преобразование строки в число\n",
        "\n",
        "Это сделать достаточно просто, можно просто воспльзоваться функциями `int()` и `float()`"
      ]
    },
    {
      "cell_type": "code",
      "execution_count": null,
      "metadata": {
        "id": "4yKMDJmRZErz",
        "outputId": "08abdaba-6bcb-41c4-f022-87d6d85ac1b9"
      },
      "outputs": [
        {
          "ename": "IndentationError",
          "evalue": "unexpected indent (<ipython-input-20-2e93c6a36c2d>, line 4)",
          "output_type": "error",
          "traceback": [
            "\u001b[1;36m  File \u001b[1;32m\"<ipython-input-20-2e93c6a36c2d>\"\u001b[1;36m, line \u001b[1;32m4\u001b[0m\n\u001b[1;33m    print(\"int(a, base=16) =\", int(a, base=16))\u001b[0m\n\u001b[1;37m    ^\u001b[0m\n\u001b[1;31mIndentationError\u001b[0m\u001b[1;31m:\u001b[0m unexpected indent\n"
          ]
        }
      ],
      "source": [
        "a = \"11.5\"\n",
        "print(\"float(a) =\", float(a))\n",
        "# print(\"int(a, base=2) =\", int(a, base=2))\n",
        "# print(\"int(a, base=16) =\", int(a, base=16))"
      ]
    },
    {
      "cell_type": "markdown",
      "metadata": {
        "id": "BopnEelgZErz"
      },
      "source": [
        "Но что будет, если мы попробуем преобразоать непреобразуемое?"
      ]
    },
    {
      "cell_type": "code",
      "execution_count": null,
      "metadata": {
        "id": "AxmVZaC5ZErz",
        "outputId": "e200740e-ca77-4b93-91f5-0a291d8da37c"
      },
      "outputs": [
        {
          "ename": "ValueError",
          "evalue": "invalid literal for int() with base 10: '11.5'",
          "output_type": "error",
          "traceback": [
            "\u001b[1;31m---------------------------------------------------------------------------\u001b[0m",
            "\u001b[1;31mValueError\u001b[0m                                Traceback (most recent call last)",
            "\u001b[1;32m<ipython-input-22-8b2ab3991dae>\u001b[0m in \u001b[0;36m<module>\u001b[1;34m\u001b[0m\n\u001b[1;32m----> 1\u001b[1;33m \u001b[0mint\u001b[0m\u001b[1;33m(\u001b[0m\u001b[0ma\u001b[0m\u001b[1;33m)\u001b[0m\u001b[1;33m\u001b[0m\u001b[1;33m\u001b[0m\u001b[0m\n\u001b[0m",
            "\u001b[1;31mValueError\u001b[0m: invalid literal for int() with base 10: '11.5'"
          ]
        }
      ],
      "source": [
        "int(\"a\")"
      ]
    },
    {
      "cell_type": "markdown",
      "metadata": {
        "id": "d2Fjs2bOZErz"
      },
      "source": [
        "# Домашнее задание\n",
        "\n",
        "Вам необходимо написать программу, которая находит длину третьей стороны произвольного треугольника по двум его сторонам и углу между ними. Можно использовать для этого [теорему косинусов](https://ru.wikipedia.org/wiki/%D0%A2%D0%B5%D0%BE%D1%80%D0%B5%D0%BC%D0%B0_%D0%BA%D0%BE%D1%81%D0%B8%D0%BD%D1%83%D1%81%D0%BE%D0%B2).\n",
        "\n",
        "Таким образом, программа должна спрашивать пользователя параметры треугольника: длину первой стороны, длину второй стороны и угол между ними в градусах."
      ]
    },
    {
      "cell_type": "code",
      "execution_count": null,
      "metadata": {
        "id": "jewWpij3ZEr0",
        "colab": {
          "base_uri": "https://localhost:8080/"
        },
        "outputId": "f132d791-777f-4e8c-c4b0-b869c267fed7"
      },
      "outputs": [
        {
          "output_type": "execute_result",
          "data": {
            "text/plain": [
              "False"
            ]
          },
          "metadata": {},
          "execution_count": 2
        }
      ],
      "source": [
        "import math\n",
        "\n",
        "#найти число из массива\n",
        "\n",
        "random_mas = [89, 40, 58, 59, 54, 15, 51, 77, 48, 84] #задаем рандомный массив\n",
        "a = 1 #задаём число. которое нужно найти в массиве\n",
        "\n",
        "a in random_mas #поиск числа в массиве, если число есть => True, если числа нет => False\n",
        "\n",
        "\n",
        "\n",
        "\n"
      ]
    },
    {
      "cell_type": "code",
      "source": [
        "#Вам необходимо написать программу, которая находит длину третьей стороны произвольного треугольника по двум его сторонам и углу между ними.\n",
        "#Теорема косинусов a^{2}=b^{2}+c^{2}-2 * b * c * cos{alpha}\n",
        "side_b = 3\n",
        "side_c = 9\n",
        "angle_deg = 60\n",
        "angle_rad = math.radians(angle_deg) #переводим градусы в радианы для вычислений\n",
        "\n",
        "side_a_sq = side_b**2 + side_c**2 - 2 * side_b * side_c * math.cos(angle_rad) #записываем формулу с помощью функций из пайтон\n",
        "side_a = math.sqrt(side_a_sq) #так как в формуле вычисляли длину в квадрате, нам нужно найти длину без квадрата\n",
        "print(\"Длина третьей стороны - \", side_a)"
      ],
      "metadata": {
        "colab": {
          "base_uri": "https://localhost:8080/"
        },
        "id": "ofS4K4zUn53l",
        "outputId": "14906920-6524-4e80-e2a7-8c8c9c49a795"
      },
      "execution_count": null,
      "outputs": [
        {
          "output_type": "stream",
          "name": "stdout",
          "text": [
            "Длина третьей стороны -  7.937253933193771\n"
          ]
        }
      ]
    }
  ],
  "metadata": {
    "kernelspec": {
      "display_name": "Python 3",
      "name": "python3"
    },
    "language_info": {
      "codemirror_mode": {
        "name": "ipython",
        "version": 3
      },
      "file_extension": ".py",
      "mimetype": "text/x-python",
      "name": "python",
      "nbconvert_exporter": "python",
      "pygments_lexer": "ipython3",
      "version": "3.10.9"
    },
    "colab": {
      "provenance": [],
      "include_colab_link": true
    }
  },
  "nbformat": 4,
  "nbformat_minor": 0
}