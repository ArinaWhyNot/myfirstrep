{
  "cells": [
    {
      "cell_type": "markdown",
      "metadata": {
        "id": "view-in-github",
        "colab_type": "text"
      },
      "source": [
        "<a href=\"https://colab.research.google.com/github/ArinaWhyNot/myfirstrep/blob/main/lecture4.ipynb\" target=\"_parent\"><img src=\"https://colab.research.google.com/assets/colab-badge.svg\" alt=\"Open In Colab\"/></a>"
      ]
    },
    {
      "cell_type": "markdown",
      "metadata": {
        "id": "2fR_iYWre1Aq"
      },
      "source": [
        "# Лекция 4. Коллекции. Циклы.\n",
        "\n",
        "* Словари\n",
        "* Цикл __while__\n",
        "* Цикл __for__"
      ]
    },
    {
      "cell_type": "markdown",
      "metadata": {
        "id": "VCPpndPOe1At"
      },
      "source": [
        "# Словари\n",
        "\n",
        "__Словарь__ - неупорядоченная коллекция данных, которая предоставляет доступ к своим элементам по ключу.\n",
        "\n",
        "\n",
        "Создать словарь можно с помощью литерала __\"{}\"__ или __dict()__"
      ]
    },
    {
      "cell_type": "code",
      "execution_count": null,
      "metadata": {
        "id": "ZYVc33cIe1Au",
        "outputId": "a2147791-7f95-42e9-b8de-d0d9dabc52bc"
      },
      "outputs": [
        {
          "name": "stdout",
          "output_type": "stream",
          "text": [
            "{'key1': 15, 'key2': 'text'}\n",
            "{'key': 'value', 'another key': 15}\n",
            "{'key1': None, 'key2': None}\n"
          ]
        }
      ],
      "source": [
        "# Пустой словарь\n",
        "a = {}\n",
        "b = dict()\n",
        "\n",
        "# С инициализацией\n",
        "a = {\n",
        "    \"key\": [\"1\", 2],\n",
        "    (6, 6): \"value\",\n",
        "    5: {\n",
        "        \"sub\": \"pub\",\n",
        "    },\n",
        "}\n",
        "\n",
        "b = dict(key1=15, key2=\"text\")\n",
        "print(b)\n",
        "\n",
        "b = dict([\n",
        "    (\"key\", \"value\"),\n",
        "    (\"another key\", 15)\n",
        "])\n",
        "print(b)\n",
        "\n",
        "b = dict.fromkeys([\"key1\", \"key2\"])\n",
        "print(b)"
      ]
    },
    {
      "cell_type": "markdown",
      "metadata": {
        "id": "eDH9ztkbe1Aw"
      },
      "source": [
        "## Операции со словарями\n",
        "\n",
        "- `a[\"key\"], a.get(\"key\", None)` - полученние данных по ключу\n",
        "- `\"key\" in a` - проверка наличия ключа в словаре\n",
        "- `a.keys(), a.values()` - получение __итерируемых объектов__ с ключами и значениями\n",
        "- `a.items()` - получение __итерируемого объекта__, состоящего из кортежей (ключ, значение)\n",
        "- `a.update(b)` - обновить данные словаря с помощью другого словаря\n",
        "- `len(a)` - количество элементов в словаре\n",
        "- `del a[\"key\"], a.pop(\"key\"), a.popitem()` - удаление из словаря\n",
        "- `a.clear()` - удалить все из словаря\n",
        "- `a.copy()` - получить поверхностную копию"
      ]
    },
    {
      "cell_type": "code",
      "execution_count": null,
      "metadata": {
        "id": "jwxU4uOfe1Ax",
        "outputId": "6dcb31f6-4a99-4dfc-ab31-7e03409e79c2"
      },
      "outputs": [
        {
          "name": "stdout",
          "output_type": "stream",
          "text": [
            "{'key': ['1', 2], (6, 6): 'value', 5: {'sub': 'pub'}}\n",
            "['1', 2]\n",
            "pub\n",
            "value\n"
          ]
        },
        {
          "data": {
            "text/plain": [
              "3"
            ]
          },
          "execution_count": 3,
          "metadata": {},
          "output_type": "execute_result"
        }
      ],
      "source": [
        "a = {\n",
        "    \"key\": [\"1\", 2],\n",
        "    (6, 6): \"value\",\n",
        "    5: {\n",
        "        \"sub\": \"pub\",\n",
        "    },\n",
        "}\n",
        "print(a)\n",
        "# получение данных\n",
        "print(a[\"key\"])\n",
        "print(a[5]['sub'])\n",
        "print(a[(6, 6)])\n",
        "len(a)"
      ]
    },
    {
      "cell_type": "code",
      "execution_count": null,
      "metadata": {
        "id": "754cU9Hve1Ax",
        "outputId": "60d99423-8626-4db9-db58-23bbfd93a773"
      },
      "outputs": [
        {
          "ename": "KeyError",
          "evalue": "'dunno'",
          "output_type": "error",
          "traceback": [
            "\u001b[1;31m---------------------------------------------------------------------------\u001b[0m",
            "\u001b[1;31mKeyError\u001b[0m                                  Traceback (most recent call last)",
            "Cell \u001b[1;32mIn[2], line 2\u001b[0m\n\u001b[0;32m      1\u001b[0m \u001b[38;5;66;03m# но если ключа нет, то получим ошибку\u001b[39;00m\n\u001b[1;32m----> 2\u001b[0m \u001b[43ma\u001b[49m\u001b[43m[\u001b[49m\u001b[38;5;124;43m\"\u001b[39;49m\u001b[38;5;124;43mdunno\u001b[39;49m\u001b[38;5;124;43m\"\u001b[39;49m\u001b[43m]\u001b[49m\n",
            "\u001b[1;31mKeyError\u001b[0m: 'dunno'"
          ]
        }
      ],
      "source": [
        "# но если ключа нет, то получим ошибку\n",
        "a[\"dunno\"]"
      ]
    },
    {
      "cell_type": "markdown",
      "metadata": {
        "id": "rPU6lPJGe1Ax"
      },
      "source": [
        "Ниже представлены способы обхода ошибки, связанной с отсутствием ключа"
      ]
    },
    {
      "cell_type": "code",
      "execution_count": null,
      "metadata": {
        "id": "PwPCdkGWe1Ay",
        "outputId": "37ac967c-79ad-455a-e7d3-35b74e1b5ed8"
      },
      "outputs": [
        {
          "name": "stdout",
          "output_type": "stream",
          "text": [
            "error\n"
          ]
        }
      ],
      "source": [
        "# сначала проверяем, что ключ есть\n",
        "if \"dunno\" in a:\n",
        "    print(a[\"dunno\"])\n",
        "\n",
        "# или пользоваться get, который возвращает None, если ключа нет\n",
        "a.get(\"dunno\")\n",
        "\n",
        "# или может возвращать значение по умолчанию\n",
        "a.get(\"dunno\", \"default\")\n",
        "\n",
        "# или перехватывать эту ошибку(будет рассказано в следующих лекциях)\n",
        "try:\n",
        "    a[\"dunno\"]\n",
        "except KeyError:\n",
        "    print(\"error\")"
      ]
    },
    {
      "cell_type": "markdown",
      "metadata": {
        "id": "CW_Aa27ve1Ay"
      },
      "source": [
        "Примеры остальных операций"
      ]
    },
    {
      "cell_type": "code",
      "execution_count": null,
      "metadata": {
        "id": "E9n3fxPCe1Ay",
        "outputId": "a557cd2c-8658-45ca-dc10-8ff9d8acf287"
      },
      "outputs": [
        {
          "name": "stdout",
          "output_type": "stream",
          "text": [
            "[]\n"
          ]
        },
        {
          "ename": "KeyError",
          "evalue": "'key'",
          "output_type": "error",
          "traceback": [
            "\u001b[1;31m---------------------------------------------------------------------------\u001b[0m",
            "\u001b[1;31mKeyError\u001b[0m                                  Traceback (most recent call last)",
            "Cell \u001b[1;32mIn[12], line 13\u001b[0m\n\u001b[0;32m     10\u001b[0m \u001b[38;5;28mprint\u001b[39m(items)\n\u001b[0;32m     12\u001b[0m \u001b[38;5;66;03m# удаляем\u001b[39;00m\n\u001b[1;32m---> 13\u001b[0m \u001b[38;5;28;01mdel\u001b[39;00m a[\u001b[38;5;124m'\u001b[39m\u001b[38;5;124mkey\u001b[39m\u001b[38;5;124m'\u001b[39m]\n\u001b[0;32m     14\u001b[0m v \u001b[38;5;241m=\u001b[39m a\u001b[38;5;241m.\u001b[39mpop((\u001b[38;5;241m6\u001b[39m, \u001b[38;5;241m6\u001b[39m)) \u001b[38;5;66;03m# выдаст ошибку, если ключа нет\u001b[39;00m\n\u001b[0;32m     15\u001b[0m v \u001b[38;5;241m=\u001b[39m a\u001b[38;5;241m.\u001b[39mpop(\u001b[38;5;124m'\u001b[39m\u001b[38;5;124mdunno\u001b[39m\u001b[38;5;124m'\u001b[39m, \u001b[38;5;124m'\u001b[39m\u001b[38;5;124mdefault\u001b[39m\u001b[38;5;124m'\u001b[39m) \u001b[38;5;66;03m# вернет значение по умолчанию, если ключа нет\u001b[39;00m\n",
            "\u001b[1;31mKeyError\u001b[0m: 'key'"
          ]
        }
      ],
      "source": [
        "# получить все ключи\n",
        "# list нужен, чтобы преобразовать итерируемый объект в список\n",
        "keys = list(a.keys())\n",
        "\n",
        "# значения\n",
        "values = list(a.values())\n",
        "\n",
        "# или оба сразу\n",
        "items = list(a.items())\n",
        "print(items)\n",
        "\n",
        "# удаляем\n",
        "del a['key']\n",
        "v = a.pop((6, 6)) # выдаст ошибку, если ключа нет\n",
        "v = a.pop('dunno', 'default') # вернет значение по умолчанию, если ключа нет\n",
        "\n",
        "k, v = a.popitem()\n",
        "print(k, v)"
      ]
    },
    {
      "cell_type": "markdown",
      "metadata": {
        "id": "MSeTbxBVe1Az"
      },
      "source": [
        "# Прочие коллекции\n",
        "\n",
        "Существует еще несколько весьма удобных коллекций в модуле __collections__\n",
        "\n",
        "- __namedtuple()__ - кортеж с именоваными элементами (похож на словарь)\n",
        "- __defaultdict()__ - словарь, который автоматически создает значение для несуществующих ключей"
      ]
    },
    {
      "cell_type": "code",
      "execution_count": null,
      "metadata": {
        "id": "16Hyo9Pbe1Az",
        "outputId": "a621bb7e-61e4-4d6e-9f67-9de9bb7c53c4"
      },
      "outputs": [
        {
          "name": "stdout",
          "output_type": "stream",
          "text": [
            "Point(x=5, y=10)\n",
            "5 5\n",
            "5 10\n"
          ]
        }
      ],
      "source": [
        "from collections import namedtuple, defaultdict\n",
        "\n",
        "Point = namedtuple('Point', ['x', 'y'])\n",
        "\n",
        "p = Point(x=5, y=10)\n",
        "print(p)\n",
        "print(p.x, p[0])\n",
        "x, y = p\n",
        "print(x, y)"
      ]
    },
    {
      "cell_type": "code",
      "execution_count": null,
      "metadata": {
        "id": "Yfec3Rpqe1A0",
        "outputId": "4a6736af-0250-4e81-ff35-07664343ccc1"
      },
      "outputs": [
        {
          "name": "stdout",
          "output_type": "stream",
          "text": [
            "[]\n"
          ]
        }
      ],
      "source": [
        "a = defaultdict(lambda: 5)\n",
        "print(a[\"dunno\"])\n",
        "\n",
        "a = defaultdict(list)\n",
        "print(a[\"dunno\"])"
      ]
    },
    {
      "cell_type": "markdown",
      "metadata": {
        "id": "JsaXx1bPe1A0"
      },
      "source": [
        "# Циклы\n",
        "\n",
        "Всякий раз, когда нам нужно выполнить какое-то действие несколько раз подрям, нам необходимо использовать циклы."
      ]
    },
    {
      "cell_type": "markdown",
      "metadata": {
        "id": "zEJ4wATDe1A1"
      },
      "source": [
        "## while\n",
        "\n",
        "Самый простой цикл выглядит следующим образом\n",
        "\n",
        "```Python\n",
        "while <условие>:\n",
        "    <Тело цикла. Ваш код.>\n",
        "else:\n",
        "    <ваш код>\n",
        "```\n",
        "\n",
        "Данный цикл работает достаточно просто. В начале проверяется условие и если оно True, то выполняется тело цикла (также как для if). После выполнения блока, Python снова возвращается к условию и снова его проверяет. И если в этот раз, условие тоже True, то тело выполняется еще раз. И так до тех пор будет повторяться, пока условие истинно.\n",
        "\n",
        "> `break` - позволяет немедленно остановить выполнение тела цикла и вернуться в основную программу\n",
        "\n",
        "> `continue` - позволяет немедленно остановить выполнение тела цикла и перейти сразу же к началу цикла. Для while - это проверка условия.\n",
        "\n",
        "> `else` - данный блок срабатывает, если в теле цикла не сработал `break` (при этом он может там присутствовать)"
      ]
    },
    {
      "cell_type": "code",
      "execution_count": null,
      "metadata": {
        "id": "CToU38Ibe1A1"
      },
      "outputs": [],
      "source": [
        "# бесконечный цикл\n",
        "\n",
        "while True:\n",
        "    pass"
      ]
    },
    {
      "cell_type": "markdown",
      "metadata": {
        "id": "vqzRF25Je1A1"
      },
      "source": [
        "> `pass` - пустой оператор, буквально ничего не делает"
      ]
    },
    {
      "cell_type": "code",
      "execution_count": null,
      "metadata": {
        "id": "E-Uvgefue1A2",
        "outputId": "890b1b82-4db1-4a5c-c7f8-40751e0e648c"
      },
      "outputs": [
        {
          "name": "stdout",
          "output_type": "stream",
          "text": [
            "2\n",
            "4\n",
            "6\n",
            "8\n",
            "10\n",
            "while end\n"
          ]
        }
      ],
      "source": [
        "# Пример условия\n",
        "\n",
        "i = 0\n",
        "\n",
        "while i < 10:\n",
        "    i += 1 #i=i+1\n",
        "    if i % 2:\n",
        "        continue\n",
        "    print(i)\n",
        "else:\n",
        "    print(\"while end\")"
      ]
    },
    {
      "cell_type": "code",
      "execution_count": null,
      "metadata": {
        "id": "U6PkCOXce1A2",
        "outputId": "75e8884f-0d2b-451d-b5a9-4c285ab306db"
      },
      "outputs": [
        {
          "name": "stdout",
          "output_type": "stream",
          "text": [
            "No Python documentation found for 'pop'.\n",
            "Use help() to get the interactive help utility.\n",
            "Use help(str) for help on the str class.\n",
            "\n"
          ]
        }
      ],
      "source": []
    },
    {
      "cell_type": "code",
      "execution_count": null,
      "metadata": {
        "id": "NTcVfgMTe1A3",
        "outputId": "4c769a24-c7fe-4bdc-a35b-864e93bfe919"
      },
      "outputs": [
        {
          "name": "stdout",
          "output_type": "stream",
          "text": [
            "7\n",
            "6\n",
            "5\n",
            "4\n",
            "3\n",
            "2\n",
            "1\n"
          ]
        }
      ],
      "source": [
        "# Пример условия\n",
        "\n",
        "a = [1, 2, 3, 4, 5, 6, 7,] #лист\n",
        "while a:\n",
        "    print(a.pop())"
      ]
    },
    {
      "cell_type": "code",
      "execution_count": null,
      "metadata": {
        "colab": {
          "base_uri": "https://localhost:8080/"
        },
        "id": "2kLMo6kde1A3",
        "outputId": "227416d4-6d6f-4d99-eb1f-dc752067422b"
      },
      "outputs": [
        {
          "output_type": "stream",
          "name": "stdout",
          "text": [
            "H\n",
            "e\n",
            "l\n",
            "l\n",
            "o\n"
          ]
        }
      ],
      "source": [
        "# Пример прерывания цикла\n",
        "\n",
        "s = \"Hello.World\"\n",
        "i = 0\n",
        "while i < len(s):\n",
        "    if s[i] == \".\":\n",
        "        break\n",
        "        print(\"you don't see\")\n",
        "\n",
        "    print(s[i]) #нужно увеличивать счетчик\n",
        "    i += 1\n",
        "else:\n",
        "    print(\"you don't see\")"
      ]
    },
    {
      "cell_type": "markdown",
      "metadata": {
        "id": "Cy9S2zWFe1A4"
      },
      "source": [
        "## for\n",
        "\n",
        "Данный оператор позволяет пройтись по элементам любой последовательности или итерируемого объекта. Полный синтаксис оператора __for__\n",
        "\n",
        "```Python\n",
        "\n",
        "for <цель> in <объект>:\n",
        "    <блок кода>\n",
        "else:\n",
        "    <блок кода>\n",
        "```\n",
        "\n",
        "_Объектом_ выступает любой объект, которые поддерживает протокол итераций. При каждой итерации, получаемый элемент присваивается _цели_.\n",
        "\n",
        "Доступны __continue__ и __break__, которые работают точно также, как и для __while__.\n",
        "\n",
        "Блок __else__ срабатывает, если внутри цикла не был использован __break__."
      ]
    },
    {
      "cell_type": "code",
      "execution_count": null,
      "metadata": {
        "id": "tSmdk5mCe1A4",
        "outputId": "ecd87d4b-59b3-48e5-decc-141a8af0f1ef"
      },
      "outputs": [
        {
          "name": "stdout",
          "output_type": "stream",
          "text": [
            "h\n",
            "e\n",
            "l\n",
            "l\n",
            "o\n"
          ]
        }
      ],
      "source": [
        "for c in \"hello\":\n",
        "    print(c)"
      ]
    },
    {
      "cell_type": "code",
      "execution_count": null,
      "metadata": {
        "id": "6NwzXtfne1A5"
      },
      "outputs": [],
      "source": [
        "a = {\n",
        "    \"a\": 1,\n",
        "    \"b\": 2,\n",
        "}"
      ]
    },
    {
      "cell_type": "code",
      "execution_count": null,
      "metadata": {
        "id": "FbkIFIXUe1A5",
        "outputId": "672cbb80-bb10-4cfa-df6d-ab70035184fb"
      },
      "outputs": [
        {
          "name": "stdout",
          "output_type": "stream",
          "text": [
            "a\n",
            "b\n"
          ]
        }
      ],
      "source": [
        "for key in a:\n",
        "    print(key)"
      ]
    },
    {
      "cell_type": "code",
      "execution_count": null,
      "metadata": {
        "id": "ZOXdQwVXe1A6",
        "outputId": "8dc2d90d-a084-4f73-f202-76e78e00182f"
      },
      "outputs": [
        {
          "name": "stdout",
          "output_type": "stream",
          "text": [
            "1\n",
            "2\n"
          ]
        }
      ],
      "source": [
        "for value in a.values():\n",
        "    print(value)"
      ]
    },
    {
      "cell_type": "code",
      "execution_count": null,
      "metadata": {
        "id": "TLz_k7vUe1A7",
        "outputId": "a31b5a76-22b9-425c-b9bc-4602513884f9"
      },
      "outputs": [
        {
          "name": "stdout",
          "output_type": "stream",
          "text": [
            "a 1\n",
            "b 2\n"
          ]
        }
      ],
      "source": [
        "for key, value in a.items():\n",
        "    print(key, value)"
      ]
    },
    {
      "cell_type": "markdown",
      "metadata": {
        "id": "5baIjsE0e1A7"
      },
      "source": [
        "При этом __важно__ понимать, что цель - это обычная переменная, так что если ее перезаписать, то перезапишется она, а не элемента массива"
      ]
    },
    {
      "cell_type": "code",
      "execution_count": null,
      "metadata": {
        "id": "Pb6IgHmVe1A8",
        "outputId": "ae231129-23aa-4395-916e-73ae2918ce3e"
      },
      "outputs": [
        {
          "name": "stdout",
          "output_type": "stream",
          "text": [
            "[1, 2, 3]\n"
          ]
        }
      ],
      "source": [
        "a = [1, 2, 3]\n",
        "\n",
        "for el in a:\n",
        "    el = 5\n",
        "\n",
        "# не совсем то, что хотелось бы\n",
        "print(a)"
      ]
    },
    {
      "cell_type": "markdown",
      "metadata": {
        "id": "1k47xEQOe1A8"
      },
      "source": [
        "## Полезные функции для циклов\n",
        "\n",
        "> `range()` -  позволяет генерировать числа по запросу."
      ]
    },
    {
      "cell_type": "code",
      "execution_count": null,
      "metadata": {
        "id": "I_YoOUAbe1A9",
        "outputId": "8ae65ef4-0e9c-40f3-9543-761246dc3bff"
      },
      "outputs": [
        {
          "data": {
            "text/plain": [
              "[0, 1, 2, 3, 4, 5, 6, 7, 8, 9]"
            ]
          },
          "execution_count": 34,
          "metadata": {},
          "output_type": "execute_result"
        }
      ],
      "source": [
        "list(range(10))"
      ]
    },
    {
      "cell_type": "code",
      "execution_count": null,
      "metadata": {
        "id": "wE0RZiGRe1A9",
        "outputId": "a1fba493-1829-44af-b0e4-a53dcebcd201"
      },
      "outputs": [
        {
          "data": {
            "text/plain": [
              "[5, 6, 7, 8, 9]"
            ]
          },
          "execution_count": 35,
          "metadata": {},
          "output_type": "execute_result"
        }
      ],
      "source": [
        "list(range(5, 10))"
      ]
    },
    {
      "cell_type": "code",
      "execution_count": null,
      "metadata": {
        "id": "7zlNNGO2e1A-",
        "outputId": "5f186449-bac8-45c6-b9de-0584eefaf686"
      },
      "outputs": [
        {
          "data": {
            "text/plain": [
              "[0, 2, 4, 6, 8]"
            ]
          },
          "execution_count": 36,
          "metadata": {},
          "output_type": "execute_result"
        }
      ],
      "source": [
        "list(range(0, 10, 2))"
      ]
    },
    {
      "cell_type": "markdown",
      "metadata": {
        "id": "x09M63roe1A_"
      },
      "source": [
        "Данную функцию очень удобно использовать для генерации индексов"
      ]
    },
    {
      "cell_type": "code",
      "execution_count": null,
      "metadata": {
        "id": "0tVz_vHZe1A_",
        "outputId": "3fc7eac3-ced7-4c6b-c594-18a6f9c6d794"
      },
      "outputs": [
        {
          "name": "stdout",
          "output_type": "stream",
          "text": [
            "[1, 1, 1]\n"
          ]
        }
      ],
      "source": [
        "a = [1, 2, 3]\n",
        "\n",
        "for i in range(len(a)):\n",
        "    a[i] = 1\n",
        "\n",
        "print(a)"
      ]
    },
    {
      "cell_type": "markdown",
      "metadata": {
        "id": "y6rL53sse1A_"
      },
      "source": [
        "> `zip()` - _\"склеивает\"_ элементы списков в кортежи, пока это возможно сделать."
      ]
    },
    {
      "cell_type": "code",
      "execution_count": null,
      "metadata": {
        "id": "S6fyAYHLe1A_",
        "outputId": "eb7ef25c-dc8e-4ffe-ab36-a14c5e6e5f0e"
      },
      "outputs": [
        {
          "name": "stdout",
          "output_type": "stream",
          "text": [
            "1 4\n",
            "2 5\n",
            "3 6\n"
          ]
        }
      ],
      "source": [
        "a = [1, 2, 3]\n",
        "b = [4, 5, 6]\n",
        "\n",
        "for el_a, el_b in zip(a, b):\n",
        "    print(el_a, el_b)"
      ]
    },
    {
      "cell_type": "code",
      "execution_count": null,
      "metadata": {
        "id": "nPWd3FECe1BA",
        "outputId": "f590d950-1e18-4933-c41a-7b60fbaa60aa"
      },
      "outputs": [
        {
          "data": {
            "text/plain": [
              "[(1, 4), (2, 5), (3, 6)]"
            ]
          },
          "execution_count": 42,
          "metadata": {},
          "output_type": "execute_result"
        }
      ],
      "source": [
        "list(zip(a, b))"
      ]
    },
    {
      "cell_type": "code",
      "execution_count": null,
      "metadata": {
        "id": "pkW879Uwe1BA",
        "outputId": "e7458585-f1dc-4d3b-b946-9c8c2d6c52dc"
      },
      "outputs": [
        {
          "name": "stdout",
          "output_type": "stream",
          "text": [
            "H F\n",
            "i o\n"
          ]
        }
      ],
      "source": [
        "for a, b in zip(\"Hi\", \"Foo\"):\n",
        "    print(a, b)"
      ]
    },
    {
      "cell_type": "markdown",
      "metadata": {
        "id": "DW0aYPiae1BH"
      },
      "source": [
        "Например, иногда очень удобно использовать для создание словарей"
      ]
    },
    {
      "cell_type": "code",
      "execution_count": null,
      "metadata": {
        "id": "q5efYz4be1BI",
        "outputId": "200f1e1c-13d4-409f-d322-549ba6f7208a"
      },
      "outputs": [
        {
          "name": "stdout",
          "output_type": "stream",
          "text": [
            "{'H': 'F', 'i': 'o'}\n"
          ]
        }
      ],
      "source": [
        "d = dict(zip(\"Hi\", \"Foo\"))\n",
        "print(d)"
      ]
    },
    {
      "cell_type": "markdown",
      "metadata": {
        "id": "00ZUAx2Ye1BI"
      },
      "source": [
        "> `map()` - позволяет очень быстро отобразить функцию на последовательность (работает быстрее for)."
      ]
    },
    {
      "cell_type": "code",
      "execution_count": null,
      "metadata": {
        "id": "Ps59-Gaoe1BJ",
        "outputId": "75ae1ffb-3b66-4ed8-9870-7870009f96de"
      },
      "outputs": [
        {
          "name": "stdout",
          "output_type": "stream",
          "text": [
            "<map object at 0x00000287158CA0D0>\n",
            "[1, 2, 3, 4]\n"
          ]
        }
      ],
      "source": [
        "a = [\"1\", \"2\", \"3\", \"4\"]\n",
        "\n",
        "# обратите внимание на int без скобок\n",
        "result = map(int, a)\n",
        "\n",
        "# видим, что это объект, а не конкретный результат\n",
        "print(result)\n",
        "\n",
        "print(list(result))"
      ]
    },
    {
      "cell_type": "markdown",
      "metadata": {
        "id": "sgd4ZBMIe1BJ"
      },
      "source": [
        "> `enumerate()` - позволяет генерировать индекс элемента и сам элемент"
      ]
    },
    {
      "cell_type": "code",
      "execution_count": null,
      "metadata": {
        "id": "MnOk4zZge1BJ",
        "outputId": "e914cd6b-bf2c-443e-c793-f756bdc332f1"
      },
      "outputs": [
        {
          "name": "stdout",
          "output_type": "stream",
          "text": [
            "s[0] = 'H'\n",
            "s[1] = 'e'\n",
            "s[2] = 'l'\n",
            "s[3] = 'l'\n",
            "s[4] = 'o'\n",
            "s[5] = ' '\n",
            "s[6] = 'W'\n",
            "s[7] = 'o'\n",
            "s[8] = 'r'\n",
            "s[9] = 'l'\n",
            "s[10] = 'd'\n"
          ]
        }
      ],
      "source": [
        "for i, c in enumerate(\"Hello World\"):\n",
        "    # используем форматирование, чтобы индекс выглядел красиво\n",
        "    print(f\"s[{i:03d}] = '{c}'\")"
      ]
    },
    {
      "cell_type": "code",
      "source": [
        "#если нужно поставить на ночь, чтобы все сохранить с утра\n",
        "while true:\n",
        "  1"
      ],
      "metadata": {
        "id": "qffXDz0WmDUQ"
      },
      "execution_count": null,
      "outputs": []
    },
    {
      "cell_type": "markdown",
      "metadata": {
        "id": "-2RQJl3ie1BK"
      },
      "source": [
        "# Домашнее задание\n",
        "\n",
        "Необходимо найти все [простые числа](https://ru.wikipedia.org/wiki/%D0%9F%D1%80%D0%BE%D1%81%D1%82%D0%BE%D0%B5_%D1%87%D0%B8%D1%81%D0%BB%D0%BE) от 2 до N, где N - это число которое должен ввести пользователь. Для поиска простых чисел __необходимо__ использовать [решето Эратосфена](https://ru.wikipedia.org/wiki/%D0%A0%D0%B5%D1%88%D0%B5%D1%82%D0%BE_%D0%AD%D1%80%D0%B0%D1%82%D0%BE%D1%81%D1%84%D0%B5%D0%BD%D0%B0).\n",
        "\n",
        "Все также нужно обрабатывать некорректный ввод пользователя.\n",
        "\n",
        "Каждое полученное простое число должно быть выведено в отдельной строке."
      ]
    },
    {
      "cell_type": "code",
      "execution_count": 3,
      "metadata": {
        "id": "xv2pR1rte1BK",
        "colab": {
          "base_uri": "https://localhost:8080/"
        },
        "outputId": "1c2dcd25-bbcb-4895-f62a-ffafaeb2478b"
      },
      "outputs": [
        {
          "output_type": "stream",
          "name": "stdout",
          "text": [
            "Имя 'Анна' встречается 3 раз(а)\n"
          ]
        }
      ],
      "source": [
        "#делаем матрицу, из матрицы кортеж, через фор\n",
        "#пользователь вводит имена, нужно найти имена из списка пользователя и вывести количество этих имен, \"Анна\", \"Мариая\", \"Евгения\", \"Соня\", \"Арина\", \"Анна\", \"Нина\", \"Анна\"\n",
        "names_list = [\"Анна\", \"Мариая\", \"Евгения\", \"Соня\", \"Арина\", \"Анна\", \"Нина\", \"Анна\"]\n",
        "key_name = [\"Анна\"]\n",
        "for name in key_name:\n",
        "    count = names_list.count(name)\n",
        "    print(f\"Имя '{name}' встречается {count} раз(а)\")\n"
      ]
    },
    {
      "cell_type": "code",
      "source": [
        "#Домашнее задание ро Решето Эратосфена\n",
        "while True:\n",
        "    user_input = input(\"Введите натуральное число n ≥ 2: \")\n",
        "    try:\n",
        "        n = int(user_input)\n",
        "        if n < 2:\n",
        "            print(\"Число должно быть ≥ 2. Попробуйте снова.\")\n",
        "            continue\n",
        "        #использование решета Эратосфена\n",
        "        sieve = [True] * (n + 1)\n",
        "        sieve[0] = sieve[1] = False\n",
        "        #Решето эратосфена из псевдокода\n",
        "        i = 2\n",
        "        while i * i <= n:\n",
        "            if sieve[i]:\n",
        "                j = i * i\n",
        "                while j <= n:\n",
        "                    sieve[j] = False\n",
        "                    j += i\n",
        "            i += 1\n",
        "        #вывод результатов\n",
        "        print(f\"Простые числа от 2 до {n}:\")\n",
        "        for number in range(2, n + 1):\n",
        "            if sieve[number]:\n",
        "                print(number)\n",
        "        break\n",
        "\n",
        "    except ValueError:\n",
        "        print(\"Ошибка: введите натуральное число. Попробуйте снова.\")"
      ],
      "metadata": {
        "colab": {
          "base_uri": "https://localhost:8080/"
        },
        "id": "ufROEmwkmIVO",
        "outputId": "0210a475-959e-4075-e8a8-645cc34b6ba7"
      },
      "execution_count": 7,
      "outputs": [
        {
          "output_type": "stream",
          "name": "stdout",
          "text": [
            "Введите натуральное число n ≥ 2: 5\n",
            "Простые числа от 2 до 5:\n",
            "2\n",
            "3\n",
            "5\n"
          ]
        }
      ]
    }
  ],
  "metadata": {
    "kernelspec": {
      "display_name": "Python 3 (ipykernel)",
      "language": "python",
      "name": "python3"
    },
    "language_info": {
      "codemirror_mode": {
        "name": "ipython",
        "version": 3
      },
      "file_extension": ".py",
      "mimetype": "text/x-python",
      "name": "python",
      "nbconvert_exporter": "python",
      "pygments_lexer": "ipython3",
      "version": "3.10.9"
    },
    "colab": {
      "provenance": [],
      "include_colab_link": true
    }
  },
  "nbformat": 4,
  "nbformat_minor": 0
}