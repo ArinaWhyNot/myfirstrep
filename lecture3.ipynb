{
  "cells": [
    {
      "cell_type": "markdown",
      "metadata": {
        "id": "view-in-github",
        "colab_type": "text"
      },
      "source": [
        "<a href=\"https://colab.research.google.com/github/ArinaWhyNot/myfirstrep/blob/main/lecture3.ipynb\" target=\"_parent\"><img src=\"https://colab.research.google.com/assets/colab-badge.svg\" alt=\"Open In Colab\"/></a>"
      ]
    },
    {
      "cell_type": "markdown",
      "metadata": {
        "id": "_qUWN3FPVvBN"
      },
      "source": [
        "# Лекция 3. Коллекции.\n",
        "\n",
        "* Списки\n",
        "* Кортежи\n",
        "* Особенности присваивания"
      ]
    },
    {
      "cell_type": "markdown",
      "metadata": {
        "id": "-FhuriLAVvBQ"
      },
      "source": [
        "# Немного о строках\n",
        "\n",
        "> `ord('a'), chr(117)` - получить код символа и символ по коду"
      ]
    },
    {
      "cell_type": "code",
      "execution_count": null,
      "metadata": {
        "id": "p6xyrv0BVvBQ",
        "outputId": "cbf42118-16e0-45bd-fc5b-f52d23d7f256"
      },
      "outputs": [
        {
          "name": "stdout",
          "output_type": "stream",
          "text": [
            "1103\n"
          ]
        }
      ],
      "source": [
        "print(ord('я'))"
      ]
    },
    {
      "cell_type": "code",
      "execution_count": null,
      "metadata": {
        "id": "uM4cUk9fVvBS",
        "outputId": "62fc69a0-5184-4db9-c269-06d2aad4dac6"
      },
      "outputs": [
        {
          "name": "stdout",
          "output_type": "stream",
          "text": [
            "я\n"
          ]
        }
      ],
      "source": [
        "print(chr(1103))"
      ]
    },
    {
      "cell_type": "markdown",
      "metadata": {
        "id": "9EaGZSqQVvBS"
      },
      "source": [
        "В Python 3.6+ появились, так называемые, f-строки"
      ]
    },
    {
      "cell_type": "code",
      "execution_count": null,
      "metadata": {
        "id": "jgjWrHWlVvBS",
        "outputId": "55f14e70-add6-4ce0-a570-0158aa3f5f4c"
      },
      "outputs": [
        {
          "data": {
            "text/plain": [
              "'Много текста 000002.500'"
            ]
          },
          "execution_count": 1,
          "metadata": {},
          "output_type": "execute_result"
        }
      ],
      "source": [
        "a = 5 / 2\n",
        "m = f\"Много текста {a:010.3f}\" #:010.3f - округление\n",
        "m"
      ]
    },
    {
      "cell_type": "markdown",
      "metadata": {
        "id": "D8Se5E8BVvBS"
      },
      "source": [
        "# Списки и кортежи\n",
        "\n",
        "> __Список (list)__ - это изменяемый упорядоченный набор данных\n",
        "\n",
        "Создать список очень просто. Достаточно использовать литерал __\"[]\"__ или __\"list()\"__"
      ]
    },
    {
      "cell_type": "code",
      "execution_count": null,
      "metadata": {
        "colab": {
          "base_uri": "https://localhost:8080/"
        },
        "id": "kAqw3cJ7VvBT",
        "outputId": "3177c6a2-4f01-4ff8-d8c0-4e89e4fc8c65"
      },
      "outputs": [
        {
          "output_type": "stream",
          "name": "stdout",
          "text": [
            "['h', 'e', 'l', 'l', 'o', ' ', 'w', 'o', 'r', 'l', 'd']\n",
            "[0, 1, 2, 3, 4, 5, 6, 7, 8, 9]\n"
          ]
        }
      ],
      "source": [
        "# создать пустой список\n",
        "a = []\n",
        "\n",
        "# создать список из разных элементов\n",
        "a = [1, 2, \"text\"]\n",
        "\n",
        "# а можем даже список из списков\n",
        "a = [\n",
        "    [1, 2, 3],\n",
        "    [4, 5, 6],\n",
        "    [7, 8, 9],\n",
        "]\n",
        "\n",
        "# а можем создать из любого итерируемого объекта\n",
        "a = list(\"hello world\")\n",
        "print(a)\n",
        "\n",
        "a = list(range(10))\n",
        "print(a)"
      ]
    },
    {
      "cell_type": "code",
      "source": [
        "print(a[2]) #выводит значение индекса"
      ],
      "metadata": {
        "colab": {
          "base_uri": "https://localhost:8080/"
        },
        "id": "YEQe285gZbo2",
        "outputId": "160f6375-b031-4098-e03c-8fd5a0e90011"
      },
      "execution_count": null,
      "outputs": [
        {
          "output_type": "stream",
          "name": "stdout",
          "text": [
            "2\n"
          ]
        }
      ]
    },
    {
      "cell_type": "code",
      "execution_count": null,
      "metadata": {
        "id": "Z8AVvkwtVvBT",
        "outputId": "5725686b-34a3-4ee2-ac9e-f1b17fed5de3"
      },
      "outputs": [
        {
          "name": "stdout",
          "output_type": "stream",
          "text": [
            "[0, 1, 55, 3, 4, 5, 6, 7, 8, 9]\n"
          ]
        }
      ],
      "source": [
        "a[2] = 55\n",
        "print(a)"
      ]
    },
    {
      "cell_type": "markdown",
      "metadata": {
        "id": "McU_bUU_VvBT"
      },
      "source": [
        "> __Кортеж (tuple)__ - это неизменяемый упорядоченный набор данных\n",
        "\n",
        "Создать кортеж на столько же просто - для этого есть литерал __\"()\"__ и __\"tuple()\"__"
      ]
    },
    {
      "cell_type": "code",
      "execution_count": null,
      "metadata": {
        "id": "UMxPnbMOVvBT",
        "outputId": "8f0c88bb-5f9e-45a6-aa09-c9e7c24addbe"
      },
      "outputs": [
        {
          "name": "stdout",
          "output_type": "stream",
          "text": [
            "('h', 'e', 'l', 'l', 'o')\n",
            "(1, 2, 3)\n",
            "(1, 2, 'ggg')\n"
          ]
        }
      ],
      "source": [
        "# Пустой кортеж\n",
        "a = ()\n",
        "\n",
        "# Из нескольких элементов\n",
        "a = (1, 2, \"text\")\n",
        "\n",
        "# Даже кортеж из кортежей\n",
        "a = (\n",
        "    ('1', 2, '3'),\n",
        "    (5, 2),\n",
        "    []\n",
        ")\n",
        "\n",
        "# и также можем из любого итерируемого объекта\n",
        "a = tuple(\"hello\")\n",
        "print(a)\n",
        "\n",
        "# это включает и списки\n",
        "a = tuple([1, 2, 3])\n",
        "print(a)\n",
        "\n",
        "# И чтобы запутать наверняка. Перечесление элементов через запятую создает кортеж\n",
        "a = 1, 2, \"ggg\",\n",
        "print(a)"
      ]
    },
    {
      "cell_type": "code",
      "execution_count": null,
      "metadata": {
        "id": "eICFk25lVvBU",
        "outputId": "782f4ed9-a1f2-49a4-f5be-7dee056fc76a"
      },
      "outputs": [
        {
          "name": "stdout",
          "output_type": "stream",
          "text": [
            "5\n"
          ]
        }
      ],
      "source": [
        "# а теперь нюанс создания кортежа\n",
        "\n",
        "a = (5)\n",
        "\n",
        "# Какой результат?\n",
        "print(a)"
      ]
    },
    {
      "cell_type": "code",
      "execution_count": null,
      "metadata": {
        "id": "p5IHSlT6VvBU",
        "outputId": "e665c1e4-8d89-4f08-bbea-1b565412b0da"
      },
      "outputs": [
        {
          "name": "stdout",
          "output_type": "stream",
          "text": [
            "(5,)\n"
          ]
        }
      ],
      "source": [
        "# Правильно будет\n",
        "\n",
        "a = (5,)\n",
        "print(a)"
      ]
    },
    {
      "cell_type": "markdown",
      "metadata": {
        "id": "7puQXMjoVvBU"
      },
      "source": [
        "> __Рекомендация:__ ставьте запятую после последнего элемента в списках или кортежах (как и в словарях далее)"
      ]
    },
    {
      "cell_type": "code",
      "execution_count": null,
      "metadata": {
        "id": "A8uDvnOjVvBU",
        "outputId": "744262b3-4f9b-44b6-86a2-b8c34a3bd043"
      },
      "outputs": [
        {
          "name": "stdout",
          "output_type": "stream",
          "text": [
            "[1, 2, 3]\n"
          ]
        }
      ],
      "source": [
        "a = [\n",
        "    1,\n",
        "    2,\n",
        "    3,\n",
        "]\n",
        "print(a)"
      ]
    },
    {
      "cell_type": "markdown",
      "metadata": {
        "id": "YykPVs5GVvBU"
      },
      "source": [
        "Действия над списками и кортежами почти идентичны (они возвращают новый объект, не меняя оригинал)\n",
        "- `a[0], a[5:]` - индексация и срезы\n",
        "- `(1,2) + (3,4)` - конкатенация (объединение)\n",
        "- `a*4` - повторение\n",
        "- `len(a)` - количество элементов в коллекции\n",
        "- `1 in a` - проверка на вхождение объекта в коллекцию\n",
        "- `a.index('HI'), a.count('HI') ` - найти индекс/количество вхождений элемента равного `'HI'`"
      ]
    },
    {
      "cell_type": "markdown",
      "metadata": {
        "id": "oI3vBsrJVvBV"
      },
      "source": [
        "Теперь рассмотрим, чем же они отличаются"
      ]
    },
    {
      "cell_type": "code",
      "execution_count": null,
      "metadata": {
        "id": "AlvdXOhwVvBV",
        "outputId": "a2e31892-47ec-4ed5-af8f-d6b179b7e43e"
      },
      "outputs": [
        {
          "name": "stdout",
          "output_type": "stream",
          "text": [
            "[1, 7, 3]\n"
          ]
        }
      ],
      "source": [
        "# Мы можем сделать так со списками\n",
        "a = [1, 2, 3]\n",
        "a[1] = 7\n",
        "print(a)"
      ]
    },
    {
      "cell_type": "code",
      "execution_count": null,
      "metadata": {
        "id": "4WVuJEv6VvBV",
        "outputId": "00a11bea-d45e-4555-a7b1-17d5c156cfdd"
      },
      "outputs": [
        {
          "ename": "TypeError",
          "evalue": "'tuple' object does not support item assignment",
          "output_type": "error",
          "traceback": [
            "\u001b[1;31m---------------------------------------------------------------------------\u001b[0m",
            "\u001b[1;31mTypeError\u001b[0m                                 Traceback (most recent call last)",
            "Cell \u001b[1;32mIn[10], line 3\u001b[0m\n\u001b[0;32m      1\u001b[0m \u001b[38;5;66;03m# Но не можем сделать с кортежами (мы не можем привязать элемент к новому объекту!)\u001b[39;00m\n\u001b[0;32m      2\u001b[0m a \u001b[38;5;241m=\u001b[39m (\u001b[38;5;241m1\u001b[39m, \u001b[38;5;241m2\u001b[39m, \u001b[38;5;241m3\u001b[39m)\n\u001b[1;32m----> 3\u001b[0m a[\u001b[38;5;241m1\u001b[39m] \u001b[38;5;241m=\u001b[39m \u001b[38;5;241m7\u001b[39m\n\u001b[0;32m      4\u001b[0m \u001b[38;5;28mprint\u001b[39m(a)\n",
            "\u001b[1;31mTypeError\u001b[0m: 'tuple' object does not support item assignment"
          ]
        }
      ],
      "source": [
        "# Но не можем сделать с кортежами (мы не можем привязать элемент к новому объекту!)\n",
        "a = (1, 2, 3) #если есть эелемент списка в кортеже (1, [2], 3), то заменить можно\n",
        "a[1] = 7\n",
        "print(a)"
      ]
    },
    {
      "cell_type": "code",
      "execution_count": null,
      "metadata": {
        "id": "p7Ad-8I0VvBV",
        "outputId": "258728a2-fd46-49d7-dd9b-374a9559f4b8"
      },
      "outputs": [
        {
          "name": "stdout",
          "output_type": "stream",
          "text": [
            "(1, [7], 3)\n"
          ]
        }
      ],
      "source": [
        "# При этом можно сделать так\n",
        "\n",
        "a = (1, [2], 3)\n",
        "a[1][0] = 7\n",
        "print(a)\n",
        "\n",
        "# Это возможно благодаря тому, что мы не привязывали новый объект, мы просто изменили сам старый"
      ]
    },
    {
      "cell_type": "markdown",
      "metadata": {
        "id": "eJSwV5uzVvBV"
      },
      "source": [
        "## Дополнительные операции для списков\n",
        "\n",
        "В связи с возможностью изменяться список поддерживает дополнительные операции (изменяется сам список)\n",
        "\n",
        "- `a.sort()` - сортировка списка по ключу\n",
        "- `a.append('text')` - добавить элемент в конец списка\n",
        "- `a.insert(5, 'text')` - вставить элемент на позицию 5, остальные подвинуть\n",
        "- `a.extend([2, 4, 6])` - добавить пачку элементов\n",
        "- `a.reverse(), a.clear()` - поменять порядок элементов, удалить все\n",
        "- `del a[1], del a[1:2], a[1:5] = []` - удалить конкретный элемент или элементы, замена участка\n",
        "- `a[1] = 4, , a[:2] = [1, 2, 3]` - изменить элемент/элементы\n",
        "- `a.copy()` - получить поверхностную копию списка"
      ]
    },
    {
      "cell_type": "code",
      "execution_count": null,
      "metadata": {
        "id": "rqwIZIyDVvBV",
        "outputId": "63ba5600-fac5-4641-c688-f72036b524bd"
      },
      "outputs": [
        {
          "name": "stdout",
          "output_type": "stream",
          "text": [
            "[7, 2, 3, 4]\n",
            "[7, 9, 9, 9, 9, 4]\n",
            "[7, 9, 9, 9, 9, 4, 'text']\n",
            "[13, 7, 9, 9, 9, 9, 4, 'text']\n",
            "[13, 9, 9, 4]\n",
            "[9, 9, 4]\n",
            "[9]\n",
            "[9]\n",
            "[9, 'new']\n"
          ]
        }
      ],
      "source": [
        "a = [1, 2, 3, 4]\n",
        "\n",
        "# изменить элемент\n",
        "a[0] = 7\n",
        "print(a)\n",
        "\n",
        "# замена интервала внутри списка\n",
        "a[1:3] = [9, 9, 9, 9]\n",
        "print(a)\n",
        "\n",
        "# добавляем новый элемент\n",
        "a.append(\"text\")\n",
        "print(a)\n",
        "a.insert(0, 13)\n",
        "print(a)\n",
        "\n",
        "# удаляем последний\n",
        "del a[::-2]\n",
        "print(a)\n",
        "# удаляем по значению\n",
        "a.remove(13)\n",
        "\n",
        "# сортировка\n",
        "a.sort(key=lambda x: 1/x)\n",
        "print(a)\n",
        "\n",
        "# Получить и удалить последний элемент\n",
        "v = a.pop()\n",
        "\n",
        "# Получить и удалить конкретный элемент по индексу\n",
        "v = a.pop(1)\n",
        "print(a)\n",
        "\n",
        "# сделать копию\n",
        "b = a[:]\n",
        "b = a.copy()\n",
        "b.append(\"new\")\n",
        "print(a)\n",
        "print(b)"
      ]
    },
    {
      "cell_type": "markdown",
      "metadata": {
        "id": "z4LDCyi4VvBW"
      },
      "source": [
        "> `sorted()` - позволяет отсортировать любой итерируемый объект и возвращает новый экземпляр"
      ]
    },
    {
      "cell_type": "code",
      "execution_count": null,
      "metadata": {
        "id": "V59DKI1ZVvBW",
        "outputId": "a518601f-4595-4820-ba0e-6d06f562d395"
      },
      "outputs": [
        {
          "name": "stdout",
          "output_type": "stream",
          "text": [
            "6\n",
            "привет\n",
            "['в', 'е', 'и', 'п', 'р', 'т']\n"
          ]
        }
      ],
      "source": [
        "a = \"привет\"\n",
        "b = sorted(a)\n",
        "print(len(a))\n",
        "print(a)\n",
        "print(b)"
      ]
    },
    {
      "cell_type": "markdown",
      "metadata": {
        "id": "kJZBErE_VvBW"
      },
      "source": [
        "# Особенности присваивания\n",
        "\n",
        "Мы уже знакомы с самой простой формой присваивания"
      ]
    },
    {
      "cell_type": "code",
      "execution_count": null,
      "metadata": {
        "id": "gTwLIkNbVvBW"
      },
      "outputs": [],
      "source": [
        "a = 5\n",
        "a = b = 6"
      ]
    },
    {
      "cell_type": "markdown",
      "metadata": {
        "id": "yqnn0aZ_VvBW"
      },
      "source": [
        "При этом существуют более сложные формы для данного оператора. Например, позиционное присваивание кортежа"
      ]
    },
    {
      "cell_type": "code",
      "execution_count": null,
      "metadata": {
        "id": "1hKru7JAVvBW",
        "outputId": "91f5558d-e1dc-473f-e64d-9e88e893c302"
      },
      "outputs": [
        {
          "name": "stdout",
          "output_type": "stream",
          "text": [
            "a = 6\n",
            "b = 7\n"
          ]
        }
      ],
      "source": [
        "a, b = 6, 7\n",
        "print(f\"a = {a}\")\n",
        "print(f\"b = {b}\")"
      ]
    },
    {
      "cell_type": "code",
      "execution_count": null,
      "metadata": {
        "id": "QzuM6tESVvBX",
        "outputId": "ed8f6044-af4c-4364-edeb-d5dff77e2086"
      },
      "outputs": [
        {
          "name": "stdout",
          "output_type": "stream",
          "text": [
            "a = 7\n",
            "b = 6\n"
          ]
        }
      ],
      "source": [
        "# задача поменять значений переменных местами делается в одну строку\n",
        "a, b = b, a\n",
        "print(f\"a = {a}\")\n",
        "print(f\"b = {b}\")"
      ]
    },
    {
      "cell_type": "markdown",
      "metadata": {
        "id": "mCZE6k8KVvBX"
      },
      "source": [
        "Тоже самое работает со списками"
      ]
    },
    {
      "cell_type": "code",
      "execution_count": null,
      "metadata": {
        "id": "Lhx3qZv6VvBX",
        "outputId": "e09dd227-0c44-46d4-f141-9cf4a344ea43"
      },
      "outputs": [
        {
          "name": "stdout",
          "output_type": "stream",
          "text": [
            "a = 10\n",
            "b = 14\n"
          ]
        }
      ],
      "source": [
        "[a, b] = [10, 14]\n",
        "print(f\"a = {a}\")\n",
        "print(f\"b = {b}\")"
      ]
    },
    {
      "cell_type": "markdown",
      "metadata": {
        "id": "xNO1hbZ2VvBX"
      },
      "source": [
        "На самом деле, это работает с любыми последовательностями. Важно только, чтобы количество элементов слева равнялось количеству элементов справа."
      ]
    },
    {
      "cell_type": "code",
      "execution_count": null,
      "metadata": {
        "id": "_XrR5nOYVvBX",
        "outputId": "0ce8f1e1-4f5f-4342-b173-9b4a30d4df5c"
      },
      "outputs": [
        {
          "name": "stdout",
          "output_type": "stream",
          "text": [
            "a = p\n",
            "b = i\n",
            "c = n\n",
            "d = g\n"
          ]
        }
      ],
      "source": [
        "a, b, c, d = \"ping\"\n",
        "print(f\"a = {a}\")\n",
        "print(f\"b = {b}\")\n",
        "print(f\"c = {c}\")\n",
        "print(f\"d = {d}\")"
      ]
    },
    {
      "cell_type": "markdown",
      "metadata": {
        "id": "HdjJG5IDVvBY"
      },
      "source": [
        "Это даже верно для вложенных коллекций"
      ]
    },
    {
      "cell_type": "code",
      "execution_count": null,
      "metadata": {
        "id": "uNzX5oWuVvBY",
        "outputId": "d959f8a9-6957-447f-c08d-de217c3d2c13"
      },
      "outputs": [
        {
          "name": "stdout",
          "output_type": "stream",
          "text": [
            "a = p\n",
            "b = i\n",
            "c = n\n",
            "d = g\n"
          ]
        }
      ],
      "source": [
        "s = \"ping\"\n",
        "(a, b), (c, d) = s[:2], s[2:]\n",
        "print(f\"a = {a}\")\n",
        "print(f\"b = {b}\")\n",
        "print(f\"c = {c}\")\n",
        "print(f\"d = {d}\")"
      ]
    },
    {
      "cell_type": "markdown",
      "metadata": {
        "id": "ba_n-XoYVvBY"
      },
      "source": [
        "При этом существует расширенная форма присваивания, которая позволяет иметь различное количество символов"
      ]
    },
    {
      "cell_type": "code",
      "execution_count": null,
      "metadata": {
        "id": "VjzRauHVVvBY",
        "outputId": "f7b2eccf-d380-49f4-8ca2-93df9bc2d035"
      },
      "outputs": [
        {
          "ename": "ValueError",
          "evalue": "too many values to unpack (expected 3)",
          "output_type": "error",
          "traceback": [
            "\u001b[1;31m---------------------------------------------------------------------------\u001b[0m",
            "\u001b[1;31mValueError\u001b[0m                                Traceback (most recent call last)",
            "Cell \u001b[1;32mIn[24], line 7\u001b[0m\n\u001b[0;32m      4\u001b[0m a, b, c, d \u001b[38;5;241m=\u001b[39m s\n\u001b[0;32m      6\u001b[0m \u001b[38;5;66;03m# А вот это выдаст ошибку\u001b[39;00m\n\u001b[1;32m----> 7\u001b[0m a, b, c \u001b[38;5;241m=\u001b[39m s\n",
            "\u001b[1;31mValueError\u001b[0m: too many values to unpack (expected 3)"
          ]
        }
      ],
      "source": [
        "s = \"ping\"\n",
        "\n",
        "# Это сработает отлично\n",
        "a, b, c, d = s\n",
        "\n",
        "# А вот это выдаст ошибку\n",
        "a, b, c = s"
      ]
    },
    {
      "cell_type": "code",
      "execution_count": null,
      "metadata": {
        "id": "lTyyCO5vVvBY",
        "outputId": "add8b069-964a-40df-a65d-a616968c32aa"
      },
      "outputs": [
        {
          "data": {
            "text/plain": [
              "'p'"
            ]
          },
          "execution_count": 23,
          "metadata": {},
          "output_type": "execute_result"
        }
      ],
      "source": []
    },
    {
      "cell_type": "code",
      "execution_count": null,
      "metadata": {
        "id": "chfYyY7yVvBY",
        "outputId": "976a0056-13c9-4786-d458-c75e3dadf223"
      },
      "outputs": [
        {
          "name": "stdout",
          "output_type": "stream",
          "text": [
            "a = p\n",
            "b = i\n",
            "c = ['n', 'g']\n"
          ]
        }
      ],
      "source": [
        "a, b, *c = s\n",
        "\n",
        "print(f\"a = {a}\")\n",
        "print(f\"b = {b}\")\n",
        "print(f\"c = {c}\")\n",
        "\n",
        "# Эквивалентно\n",
        "a, b, c = s[0], s[1], s[2:]"
      ]
    },
    {
      "cell_type": "code",
      "execution_count": null,
      "metadata": {
        "id": "rm3D0E6-VvBc",
        "outputId": "df410604-c930-4744-e6a3-4abc5c749901"
      },
      "outputs": [
        {
          "name": "stdout",
          "output_type": "stream",
          "text": [
            "a = ['p', 'i']\n",
            "b = n\n",
            "c = g\n"
          ]
        }
      ],
      "source": [
        "# А можно сделать так\n",
        "\n",
        "*a, b, c = s\n",
        "print(f\"a = {a}\")\n",
        "print(f\"b = {b}\")\n",
        "print(f\"c = {c}\")\n",
        "\n",
        "# Важно, чтобы была только одна *"
      ]
    },
    {
      "cell_type": "code",
      "execution_count": null,
      "metadata": {
        "id": "jl5YAV6zVvBd",
        "outputId": "7e8f3d58-c702-4297-f365-b6dc87cc5677"
      },
      "outputs": [
        {
          "name": "stdout",
          "output_type": "stream",
          "text": [
            "4\n"
          ]
        }
      ],
      "source": [
        "# Например получение последнего элемента без срезов\n",
        "a = [1, 2, 3, 4]\n",
        "*seq, last = a\n",
        "print(last)"
      ]
    },
    {
      "cell_type": "markdown",
      "metadata": {
        "id": "ytGTlfccVvBd"
      },
      "source": [
        "## Условия и последовательности\n",
        "\n",
        "Так же можно делать поэлементное сравнение последовательностей, __исключительного одного и того же типа__"
      ]
    },
    {
      "cell_type": "code",
      "execution_count": null,
      "metadata": {
        "id": "azjKUdmzVvBd",
        "outputId": "a12c380c-dde8-4054-cdf7-9a24740fff1d"
      },
      "outputs": [
        {
          "name": "stdout",
          "output_type": "stream",
          "text": [
            "True\n",
            "False\n",
            "False\n",
            "True\n"
          ]
        },
        {
          "data": {
            "text/plain": [
              "True"
            ]
          },
          "execution_count": 28,
          "metadata": {},
          "output_type": "execute_result"
        }
      ],
      "source": [
        "a = [1, 2]\n",
        "b = [1, 2]\n",
        "c = (1, 2)\n",
        "d = (1, 2)\n",
        "\n",
        "# Элементы одинаковы\n",
        "print(a == b)\n",
        "# Но это не один и тот же объект\n",
        "print(a is b)\n",
        "# в то же время, сравнить список и кортеж нельзя\n",
        "print(a == c)\n",
        "# а кортеж с кортежом - легко\n",
        "print(c == d)\n",
        "\n",
        "# Все это эквивалентно\n",
        "a[0] == b[0] and a[1] == b[1]"
      ]
    },
    {
      "cell_type": "markdown",
      "metadata": {
        "id": "3cSw29rOVvBd"
      },
      "source": [
        "> `__X is Y__` - проверяет является объект в __X__ тем же самым объектом, что хранится в __Y__"
      ]
    },
    {
      "cell_type": "markdown",
      "metadata": {
        "id": "TzBeGKr2VvBd"
      },
      "source": [
        "# Домашняя работа\n",
        "\n",
        "Написать программу, которая просит ввести температуру в [градусах цельсия или фаренгейта](https://ru.wikipedia.org/wiki/%D0%93%D1%80%D0%B0%D0%B4%D1%83%D1%81_%D0%A4%D0%B0%D1%80%D0%B5%D0%BD%D0%B3%D0%B5%D0%B9%D1%82%D0%B0) (12C или 100F). Программа должна проверить корректность ввода (нужны цифры), а затем вывести значение в другой шкале: если ввод был в цельсиях, то вывод - в фаренгейтах и наоборот.\n",
        "\n",
        "Ввод: 40C\n",
        "Вывод: 104F"
      ]
    },
    {
      "cell_type": "code",
      "execution_count": 1,
      "metadata": {
        "id": "phCVTiyFVvBd",
        "colab": {
          "base_uri": "https://localhost:8080/"
        },
        "outputId": "ca9bc139-a7ed-4432-9712-c7812384695a"
      },
      "outputs": [
        {
          "output_type": "stream",
          "name": "stdout",
          "text": [
            "Введите температуру (например, 40C или 100F): 40C\n",
            "40.0C = 104.0F\n"
          ]
        }
      ],
      "source": [
        "#запрос ввода у пользователя\n",
        "user_input = input(\"Введите температуру (например, 40C или 100F): \")\n",
        "\n",
        "#определение последнего символа (C или F)\n",
        "last_sym = user_input[-1].upper()  # Приводим к верхнему регистру для унификации\n",
        "\n",
        "#проверка, что единица измерения - это C или F\n",
        "if last_sym not in ['C', 'F']:\n",
        "    print(\"Ошибка: Неправильный формат. Используйте число и 'C' для Цельсия или 'F' для Фаренгейта.\")\n",
        "else:\n",
        "    temp = float(user_input[:-1])  # Все символы, кроме последнего, превращает в число с плавающей запятой\n",
        "\n",
        "    #конвертация температуры\n",
        "    if last_sym == 'C': #условие, что ввели градусы в Цельсии\n",
        "        fah = 9/5 * temp + 32 #формула переводы из цельсия в фаренгейт\n",
        "        print(f\"{temp}C = {fah:.1f}F\") #.1f - округление до 1 цифры после запятой\n",
        "    else: #иначе - Фаренгейт\n",
        "        cel = 5/9 * (temp - 32) #формула переводы из фаренгейта в цельсий\n",
        "        print(f\"{temp}F = {cel:.1f}C\")\n"
      ]
    }
  ],
  "metadata": {
    "kernelspec": {
      "display_name": "Python 3 (ipykernel)",
      "language": "python",
      "name": "python3"
    },
    "language_info": {
      "codemirror_mode": {
        "name": "ipython",
        "version": 3
      },
      "file_extension": ".py",
      "mimetype": "text/x-python",
      "name": "python",
      "nbconvert_exporter": "python",
      "pygments_lexer": "ipython3",
      "version": "3.10.9"
    },
    "colab": {
      "provenance": [],
      "include_colab_link": true
    }
  },
  "nbformat": 4,
  "nbformat_minor": 0
}